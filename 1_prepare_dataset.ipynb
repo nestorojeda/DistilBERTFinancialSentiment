{
 "cells": [
  {
   "cell_type": "code",
   "execution_count": 1,
   "metadata": {},
   "outputs": [],
   "source": [
    "import pandas as pd\n",
    "from sklearn.model_selection import train_test_split"
   ]
  },
  {
   "cell_type": "code",
   "execution_count": 2,
   "metadata": {},
   "outputs": [],
   "source": [
    "from datasets import load_dataset\n",
    "data_files = {\"train\": \"data.csv\"}\n",
    "dataset = load_dataset(\"scherrmann/financial_phrasebank_75agree_german\")\n",
    "german_df = pd.DataFrame(dataset['train'])"
   ]
  },
  {
   "cell_type": "code",
   "execution_count": 3,
   "metadata": {},
   "outputs": [],
   "source": [
    "import kagglehub\n",
    "\n",
    "path = kagglehub.dataset_download(\"arcticgiant/french-financial-news\")\n",
    "french_df = pd.read_csv(f'{path}/FrenchNews.csv')"
   ]
  },
  {
   "cell_type": "code",
   "execution_count": 4,
   "metadata": {},
   "outputs": [
    {
     "data": {
      "text/plain": [
       "sentence    0\n",
       "label       0\n",
       "dtype: int64"
      ]
     },
     "execution_count": 4,
     "metadata": {},
     "output_type": "execute_result"
    }
   ],
   "source": [
    "german_df.isnull().sum()"
   ]
  },
  {
   "cell_type": "code",
   "execution_count": 5,
   "metadata": {},
   "outputs": [
    {
     "data": {
      "text/plain": [
       "Sentiment\n",
       "neutral     1717\n",
       "positive     710\n",
       "negative     336\n",
       "Name: count, dtype: int64"
      ]
     },
     "execution_count": 5,
     "metadata": {},
     "output_type": "execute_result"
    }
   ],
   "source": [
    "sentiment_map = {0: 'negative', 1: 'neutral', 2: 'positive'}\n",
    "german_df['Sentiment'] = german_df['label'].map(sentiment_map)\n",
    "german_df.rename(columns={'sentence': 'Sentence'}, inplace=True)\n",
    "german_df = german_df[['Sentence', 'Sentiment']]\n",
    "german_df = german_df.dropna()\n",
    "german_df['Sentiment'].value_counts()"
   ]
  },
  {
   "cell_type": "code",
   "execution_count": 6,
   "metadata": {},
   "outputs": [
    {
     "data": {
      "text/plain": [
       "2763"
      ]
     },
     "execution_count": 6,
     "metadata": {},
     "output_type": "execute_result"
    }
   ],
   "source": [
    "german_df.shape[0]"
   ]
  },
  {
   "cell_type": "code",
   "execution_count": 7,
   "metadata": {},
   "outputs": [
    {
     "data": {
      "text/plain": [
       "Sentiment\n",
       "neutral     18507\n",
       "negative    13188\n",
       "positive     9848\n",
       "Name: count, dtype: int64"
      ]
     },
     "execution_count": 7,
     "metadata": {},
     "output_type": "execute_result"
    }
   ],
   "source": [
    "french_df['sentiment_title'] = french_df['Sentiment Vader Title'].apply(lambda x: 'positive' if x > 0.05 else ('negative' if x < -0.05 else 'neutral'))\n",
    "french_df['sentiment_text'] = french_df['Sentiment Vader Text'].apply(lambda x: 'positive' if x > 0.05 else ('negative' if x < -0.05 else 'neutral'))\n",
    "french_df['sentiment_url'] = french_df['Sentiment Vader TextURL'].apply(lambda x: 'positive' if x > 0.05 else ('negative' if x < -0.05 else 'neutral'))\n",
    "french_df_processed = french_df.drop(columns=['Sentiment Vader Title', 'Sentiment Vader Text', 'Sentiment Vader TextURL', 'Numero news', 'Numero page', 'Numero', 'Agency'])\n",
    "french_df_processed = french_df_processed.rename(columns={\"Titre\": \"title\", \"Contenu\": \"text\", \"URL\": \"url\"})\n",
    "french_df_processed = french_df_processed[['title','sentiment_title']]\n",
    "french_df_processed = french_df_processed.rename(columns={\"title\": \"Sentence\", \"sentiment_title\": \"Sentiment\"})\n",
    "french_df_processed['Sentiment'].value_counts()"
   ]
  },
  {
   "cell_type": "code",
   "execution_count": 8,
   "metadata": {},
   "outputs": [
    {
     "data": {
      "text/plain": [
       "41543"
      ]
     },
     "execution_count": 8,
     "metadata": {},
     "output_type": "execute_result"
    }
   ],
   "source": [
    "french_df_processed.shape[0]"
   ]
  },
  {
   "cell_type": "code",
   "execution_count": 9,
   "metadata": {},
   "outputs": [
    {
     "data": {
      "text/plain": [
       "Sentiment\n",
       "neutral     2150\n",
       "positive    1002\n",
       "negative     848\n",
       "Name: count, dtype: int64"
      ]
     },
     "execution_count": 9,
     "metadata": {},
     "output_type": "execute_result"
    }
   ],
   "source": [
    "sample_size = 2000\n",
    "french_df_processed = french_df_processed.sample(sample_size, random_state=42)\n",
    "german_df = german_df.sample(sample_size, random_state=42)\n",
    "df = pd.concat([german_df, french_df_processed], ignore_index=True)\n",
    "df['Sentiment'].value_counts()\n"
   ]
  },
  {
   "cell_type": "code",
   "execution_count": 10,
   "metadata": {},
   "outputs": [
    {
     "data": {
      "application/vnd.microsoft.datawrangler.viewer.v0+json": {
       "columns": [
        {
         "name": "index",
         "rawType": "int64",
         "type": "integer"
        },
        {
         "name": "Sentence",
         "rawType": "object",
         "type": "string"
        },
        {
         "name": "Sentiment",
         "rawType": "object",
         "type": "string"
        }
       ],
       "conversionMethod": "pd.DataFrame",
       "ref": "c4fd30b3-78a5-4bb4-bef3-a8ca3248e3ff",
       "rows": [
        [
         "0",
         "Der finnische Industriekonzern Ruukki Group Plc OMX Helsinki: RUG1V sagte am Freitag, 14. November, dass sein Möbelgeschäftsbereich Incap Furniture die Ende September begonnenen Personalverhandlungen abgeschlossen habe.",
         "neutral"
        ],
        [
         "1",
         "Honkarakenne Oyj - ein weltweit führender Hersteller von echten Holzhäusern - wird die finnische Skilangläuferin Virpi Kuitunen für die nächsten drei Jahre sponsern.",
         "neutral"
        ],
        [
         "2",
         "Der Preis des Rohmaterials Aluminium ist Ende 2005 gestiegen, aber das Unternehmen betrachtet seine Aussichten für 2006 als günstig.",
         "positive"
        ],
        [
         "3",
         "Unsere überlegene Kundenorientierung und unser Fachwissen im Bereich der digitalen Dienste heben uns von unseren Wettbewerbern ab.",
         "positive"
        ],
        [
         "4",
         "Rimvesta wird jetzt von der in estnischem Besitz befindlichen Immobilienentwicklungsgesellschaft ELL Nekilnojamas Turtas kontrolliert, die zu Merko, dem größten Baukonzern in den baltischen Ländern, gehört.",
         "neutral"
        ]
       ],
       "shape": {
        "columns": 2,
        "rows": 5
       }
      },
      "text/html": [
       "<div>\n",
       "<style scoped>\n",
       "    .dataframe tbody tr th:only-of-type {\n",
       "        vertical-align: middle;\n",
       "    }\n",
       "\n",
       "    .dataframe tbody tr th {\n",
       "        vertical-align: top;\n",
       "    }\n",
       "\n",
       "    .dataframe thead th {\n",
       "        text-align: right;\n",
       "    }\n",
       "</style>\n",
       "<table border=\"1\" class=\"dataframe\">\n",
       "  <thead>\n",
       "    <tr style=\"text-align: right;\">\n",
       "      <th></th>\n",
       "      <th>Sentence</th>\n",
       "      <th>Sentiment</th>\n",
       "    </tr>\n",
       "  </thead>\n",
       "  <tbody>\n",
       "    <tr>\n",
       "      <th>0</th>\n",
       "      <td>Der finnische Industriekonzern Ruukki Group Pl...</td>\n",
       "      <td>neutral</td>\n",
       "    </tr>\n",
       "    <tr>\n",
       "      <th>1</th>\n",
       "      <td>Honkarakenne Oyj - ein weltweit führender Hers...</td>\n",
       "      <td>neutral</td>\n",
       "    </tr>\n",
       "    <tr>\n",
       "      <th>2</th>\n",
       "      <td>Der Preis des Rohmaterials Aluminium ist Ende ...</td>\n",
       "      <td>positive</td>\n",
       "    </tr>\n",
       "    <tr>\n",
       "      <th>3</th>\n",
       "      <td>Unsere überlegene Kundenorientierung und unser...</td>\n",
       "      <td>positive</td>\n",
       "    </tr>\n",
       "    <tr>\n",
       "      <th>4</th>\n",
       "      <td>Rimvesta wird jetzt von der in estnischem Besi...</td>\n",
       "      <td>neutral</td>\n",
       "    </tr>\n",
       "  </tbody>\n",
       "</table>\n",
       "</div>"
      ],
      "text/plain": [
       "                                            Sentence Sentiment\n",
       "0  Der finnische Industriekonzern Ruukki Group Pl...   neutral\n",
       "1  Honkarakenne Oyj - ein weltweit führender Hers...   neutral\n",
       "2  Der Preis des Rohmaterials Aluminium ist Ende ...  positive\n",
       "3  Unsere überlegene Kundenorientierung und unser...  positive\n",
       "4  Rimvesta wird jetzt von der in estnischem Besi...   neutral"
      ]
     },
     "execution_count": 10,
     "metadata": {},
     "output_type": "execute_result"
    }
   ],
   "source": [
    "df.head()"
   ]
  },
  {
   "cell_type": "code",
   "execution_count": 11,
   "metadata": {},
   "outputs": [
    {
     "data": {
      "text/plain": [
       "((3200, 2), (800, 2))"
      ]
     },
     "execution_count": 11,
     "metadata": {},
     "output_type": "execute_result"
    }
   ],
   "source": [
    "train, eval = train_test_split(df, test_size=0.2, random_state=42, stratify=df['Sentiment'])\n",
    "train.shape, eval.shape"
   ]
  },
  {
   "cell_type": "code",
   "execution_count": 12,
   "metadata": {},
   "outputs": [],
   "source": [
    "train.to_csv(\"data/train_subset.csv\", index=False)\n",
    "eval.to_csv(\"data/eval_subset.csv\", index=False)"
   ]
  }
 ],
 "metadata": {
  "kernelspec": {
   "display_name": ".venv",
   "language": "python",
   "name": "python3"
  },
  "language_info": {
   "codemirror_mode": {
    "name": "ipython",
    "version": 3
   },
   "file_extension": ".py",
   "mimetype": "text/x-python",
   "name": "python",
   "nbconvert_exporter": "python",
   "pygments_lexer": "ipython3",
   "version": "3.11.9"
  }
 },
 "nbformat": 4,
 "nbformat_minor": 2
}
