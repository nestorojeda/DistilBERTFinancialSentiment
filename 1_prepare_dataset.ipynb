{
 "cells": [
  {
   "cell_type": "code",
   "execution_count": 44,
   "metadata": {},
   "outputs": [],
   "source": [
    "import pandas as pd\n",
    "from sklearn.model_selection import train_test_split"
   ]
  },
  {
   "cell_type": "code",
   "execution_count": 45,
   "metadata": {},
   "outputs": [],
   "source": [
    "from datasets import load_dataset\n",
    "data_files = {\"train\": \"data.csv\"}\n",
    "dataset = load_dataset(\"scherrmann/financial_phrasebank_75agree_german\")\n",
    "german_df = pd.DataFrame(dataset['train'])"
   ]
  },
  {
   "cell_type": "code",
   "execution_count": 46,
   "metadata": {},
   "outputs": [],
   "source": [
    "import kagglehub\n",
    "import pandas as pd\n",
    "\n",
    "path = kagglehub.dataset_download(\"arcticgiant/french-financial-news\")\n",
    "french_df = pd.read_csv(f'{path}/FrenchNews.csv')"
   ]
  },
  {
   "cell_type": "code",
   "execution_count": 47,
   "metadata": {},
   "outputs": [
    {
     "data": {
      "text/plain": [
       "sentence    0\n",
       "label       0\n",
       "dtype: int64"
      ]
     },
     "execution_count": 47,
     "metadata": {},
     "output_type": "execute_result"
    }
   ],
   "source": [
    "german_df.isnull().sum()"
   ]
  },
  {
   "cell_type": "code",
   "execution_count": null,
   "metadata": {},
   "outputs": [],
   "source": [
    "# sentiment_map = {'negative': 0, 'neutral': 1, 'positive': 2}\n",
    "sentiment_map = {0: 'negative', 1: 'neutral', 2: 'positive'}\n",
    "german_df['Sentiment'] = german_df['label'].map(sentiment_map)\n",
    "german_df.rename(columns={'sentence': 'Sentence'}, inplace=True)\n",
    "german_df = german_df[['Sentence', 'Sentiment']]\n",
    "german_df = german_df.dropna()"
   ]
  },
  {
   "cell_type": "code",
   "execution_count": 49,
   "metadata": {},
   "outputs": [
    {
     "data": {
      "text/plain": [
       "Sentiment\n",
       "neutral     1717\n",
       "positive     710\n",
       "negative     336\n",
       "Name: count, dtype: int64"
      ]
     },
     "execution_count": 49,
     "metadata": {},
     "output_type": "execute_result"
    }
   ],
   "source": [
    "german_df['Sentiment'].value_counts()"
   ]
  },
  {
   "cell_type": "code",
   "execution_count": 50,
   "metadata": {},
   "outputs": [
    {
     "data": {
      "text/plain": [
       "Sentiment\n",
       "neutral     18507\n",
       "negative    13188\n",
       "positive     9848\n",
       "Name: count, dtype: int64"
      ]
     },
     "execution_count": 50,
     "metadata": {},
     "output_type": "execute_result"
    }
   ],
   "source": [
    "french_df['sentiment_title'] = french_df['Sentiment Vader Title'].apply(lambda x: 'positive' if x > 0.05 else ('negative' if x < -0.05 else 'neutral'))\n",
    "french_df['sentiment_text'] = french_df['Sentiment Vader Text'].apply(lambda x: 'positive' if x > 0.05 else ('negative' if x < -0.05 else 'neutral'))\n",
    "french_df['sentiment_url'] = french_df['Sentiment Vader TextURL'].apply(lambda x: 'positive' if x > 0.05 else ('negative' if x < -0.05 else 'neutral'))\n",
    "french_df_processed = french_df.drop(columns=['Sentiment Vader Title', 'Sentiment Vader Text', 'Sentiment Vader TextURL', 'Numero news', 'Numero page', 'Numero', 'Agency'])\n",
    "french_df_processed = french_df_processed.rename(columns={\"Titre\": \"title\", \"Contenu\": \"text\", \"URL\": \"url\"})\n",
    "french_df_processed = french_df_processed[['title','sentiment_title']]\n",
    "french_df_processed = french_df_processed.rename(columns={\"title\": \"Sentence\", \"sentiment_title\": \"Sentiment\"})\n",
    "french_df_processed['Sentiment'].value_counts()"
   ]
  },
  {
   "cell_type": "code",
   "execution_count": 51,
   "metadata": {},
   "outputs": [
    {
     "data": {
      "text/plain": [
       "Sentiment\n",
       "neutral     20224\n",
       "negative    13524\n",
       "positive    10558\n",
       "Name: count, dtype: int64"
      ]
     },
     "execution_count": 51,
     "metadata": {},
     "output_type": "execute_result"
    }
   ],
   "source": [
    "df = pd.concat([german_df, french_df_processed], ignore_index=True)\n",
    "df['Sentiment'].value_counts()"
   ]
  },
  {
   "cell_type": "code",
   "execution_count": 55,
   "metadata": {},
   "outputs": [
    {
     "data": {
      "application/vnd.microsoft.datawrangler.viewer.v0+json": {
       "columns": [
        {
         "name": "index",
         "rawType": "int64",
         "type": "integer"
        },
        {
         "name": "Sentence",
         "rawType": "object",
         "type": "string"
        },
        {
         "name": "label",
         "rawType": "float64",
         "type": "float"
        },
        {
         "name": "Sentiment",
         "rawType": "object",
         "type": "string"
        }
       ],
       "conversionMethod": "pd.DataFrame",
       "ref": "6e0c5c47-0578-47f2-8f86-8d84d999e940",
       "rows": [
        [
         "0",
         "``Die rasch steigenden Kosten und die Stärkung des Euro stellten jedoch eine Herausforderung für die gesamte Branche dar und wirkten sich auf unsere Ergebnisse aus''",
         "0.0",
         "negative"
        ],
        [
         "1",
         "Die finnische nationale Fluggesellschaft gab an, dass der Nettoverlust in den Monaten April bis Juni 26 Millionen Euro betrug, verglichen mit einem Nettogewinn von 13 Millionen Euro im Vorjahr.",
         "0.0",
         "negative"
        ],
        [
         "2",
         "Der Betriebsgewinn fiel von EUR 7,9 Mio. im zweiten Quartal 2005 auf EUR 5,1 Mio. im zweiten Quartal 2006.",
         "0.0",
         "negative"
        ],
        [
         "3",
         "Der Gewinn für den Berichtszeitraum betrug 10,9 Mio. EUR, gegenüber 14,3 Mio. EUR im Jahr 2009.",
         "0.0",
         "negative"
        ],
        [
         "4",
         "Raute meldete für das erste Halbjahr 2009 einen Verlust pro Aktie von 0,86 EUR, gegenüber einem EPS von 0,74 EUR im Vergleichszeitraum 2008.",
         "0.0",
         "negative"
        ]
       ],
       "shape": {
        "columns": 3,
        "rows": 5
       }
      },
      "text/html": [
       "<div>\n",
       "<style scoped>\n",
       "    .dataframe tbody tr th:only-of-type {\n",
       "        vertical-align: middle;\n",
       "    }\n",
       "\n",
       "    .dataframe tbody tr th {\n",
       "        vertical-align: top;\n",
       "    }\n",
       "\n",
       "    .dataframe thead th {\n",
       "        text-align: right;\n",
       "    }\n",
       "</style>\n",
       "<table border=\"1\" class=\"dataframe\">\n",
       "  <thead>\n",
       "    <tr style=\"text-align: right;\">\n",
       "      <th></th>\n",
       "      <th>Sentence</th>\n",
       "      <th>label</th>\n",
       "      <th>Sentiment</th>\n",
       "    </tr>\n",
       "  </thead>\n",
       "  <tbody>\n",
       "    <tr>\n",
       "      <th>0</th>\n",
       "      <td>``Die rasch steigenden Kosten und die Stärkung...</td>\n",
       "      <td>0.0</td>\n",
       "      <td>negative</td>\n",
       "    </tr>\n",
       "    <tr>\n",
       "      <th>1</th>\n",
       "      <td>Die finnische nationale Fluggesellschaft gab a...</td>\n",
       "      <td>0.0</td>\n",
       "      <td>negative</td>\n",
       "    </tr>\n",
       "    <tr>\n",
       "      <th>2</th>\n",
       "      <td>Der Betriebsgewinn fiel von EUR 7,9 Mio. im zw...</td>\n",
       "      <td>0.0</td>\n",
       "      <td>negative</td>\n",
       "    </tr>\n",
       "    <tr>\n",
       "      <th>3</th>\n",
       "      <td>Der Gewinn für den Berichtszeitraum betrug 10,...</td>\n",
       "      <td>0.0</td>\n",
       "      <td>negative</td>\n",
       "    </tr>\n",
       "    <tr>\n",
       "      <th>4</th>\n",
       "      <td>Raute meldete für das erste Halbjahr 2009 eine...</td>\n",
       "      <td>0.0</td>\n",
       "      <td>negative</td>\n",
       "    </tr>\n",
       "  </tbody>\n",
       "</table>\n",
       "</div>"
      ],
      "text/plain": [
       "                                            Sentence  label Sentiment\n",
       "0  ``Die rasch steigenden Kosten und die Stärkung...    0.0  negative\n",
       "1  Die finnische nationale Fluggesellschaft gab a...    0.0  negative\n",
       "2  Der Betriebsgewinn fiel von EUR 7,9 Mio. im zw...    0.0  negative\n",
       "3  Der Gewinn für den Berichtszeitraum betrug 10,...    0.0  negative\n",
       "4  Raute meldete für das erste Halbjahr 2009 eine...    0.0  negative"
      ]
     },
     "execution_count": 55,
     "metadata": {},
     "output_type": "execute_result"
    }
   ],
   "source": [
    "df.head()"
   ]
  },
  {
   "cell_type": "code",
   "execution_count": 53,
   "metadata": {},
   "outputs": [
    {
     "data": {
      "text/plain": [
       "((35444, 3), (8862, 3))"
      ]
     },
     "execution_count": 53,
     "metadata": {},
     "output_type": "execute_result"
    }
   ],
   "source": [
    "train, eval = train_test_split(df, test_size=0.2, random_state=42, stratify=df['Sentiment'])\n",
    "train.shape, eval.shape"
   ]
  },
  {
   "cell_type": "code",
   "execution_count": 54,
   "metadata": {},
   "outputs": [],
   "source": [
    "train.to_csv(\"data/train_subset.csv\", index=False)\n",
    "eval.to_csv(\"data/eval_subset.csv\", index=False)"
   ]
  }
 ],
 "metadata": {
  "kernelspec": {
   "display_name": ".venv",
   "language": "python",
   "name": "python3"
  },
  "language_info": {
   "codemirror_mode": {
    "name": "ipython",
    "version": 3
   },
   "file_extension": ".py",
   "mimetype": "text/x-python",
   "name": "python",
   "nbconvert_exporter": "python",
   "pygments_lexer": "ipython3",
   "version": "3.9.6"
  }
 },
 "nbformat": 4,
 "nbformat_minor": 2
}
