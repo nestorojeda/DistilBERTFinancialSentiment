{
 "cells": [
  {
   "cell_type": "code",
   "execution_count": 29,
   "metadata": {},
   "outputs": [],
   "source": [
    "import pandas as pd\n",
    "from sklearn.model_selection import train_test_split"
   ]
  },
  {
   "cell_type": "code",
   "execution_count": 30,
   "metadata": {},
   "outputs": [
    {
     "data": {
      "text/plain": [
       "3453"
      ]
     },
     "execution_count": 30,
     "metadata": {},
     "output_type": "execute_result"
    }
   ],
   "source": [
    "from datasets import load_dataset\n",
    "dataset = load_dataset(\"scherrmann/financial_phrasebank_75agree_german\")\n",
    "german_df_train = pd.DataFrame(dataset['train'])\n",
    "german_df_test = pd.DataFrame(dataset['test'])\n",
    "german_df_eval = pd.DataFrame(dataset['validation'])\n",
    "german_df = pd.concat([german_df_train, german_df_test, german_df_eval])\n",
    "german_df.shape[0]"
   ]
  },
  {
   "cell_type": "code",
   "execution_count": 31,
   "metadata": {},
   "outputs": [
    {
     "data": {
      "text/plain": [
       "41543"
      ]
     },
     "execution_count": 31,
     "metadata": {},
     "output_type": "execute_result"
    }
   ],
   "source": [
    "import kagglehub\n",
    "\n",
    "path = kagglehub.dataset_download(\"arcticgiant/french-financial-news\")\n",
    "french_df = pd.read_csv(f'{path}/FrenchNews.csv')\n",
    "french_df.shape[0]"
   ]
  },
  {
   "cell_type": "code",
   "execution_count": 32,
   "metadata": {},
   "outputs": [
    {
     "data": {
      "text/plain": [
       "4830"
      ]
     },
     "execution_count": 32,
     "metadata": {},
     "output_type": "execute_result"
    }
   ],
   "source": [
    "dataset = load_dataset(\"NickyNicky/financial_phrasebank_traslate_En_Es\")\n",
    "spanish_df = pd.DataFrame(dataset['train'])\n",
    "spanish_df.shape[0]"
   ]
  },
  {
   "cell_type": "code",
   "execution_count": 33,
   "metadata": {},
   "outputs": [
    {
     "data": {
      "text/plain": [
       "sentence    0\n",
       "label       0\n",
       "dtype: int64"
      ]
     },
     "execution_count": 33,
     "metadata": {},
     "output_type": "execute_result"
    }
   ],
   "source": [
    "german_df.isnull().sum()"
   ]
  },
  {
   "cell_type": "code",
   "execution_count": 34,
   "metadata": {},
   "outputs": [
    {
     "data": {
      "text/plain": [
       "Sentiment\n",
       "neutral     2146\n",
       "positive     887\n",
       "negative     420\n",
       "Name: count, dtype: int64"
      ]
     },
     "execution_count": 34,
     "metadata": {},
     "output_type": "execute_result"
    }
   ],
   "source": [
    "sentiment_map = {0: 'negative', 1: 'neutral', 2: 'positive'}\n",
    "german_df['Sentiment'] = german_df['label'].map(sentiment_map)\n",
    "german_df.rename(columns={'sentence': 'Sentence'}, inplace=True)\n",
    "german_df = german_df[['Sentence', 'Sentiment']]\n",
    "german_df = german_df.dropna()\n",
    "german_df['Sentiment'].value_counts()"
   ]
  },
  {
   "cell_type": "code",
   "execution_count": 35,
   "metadata": {},
   "outputs": [
    {
     "data": {
      "text/plain": [
       "3453"
      ]
     },
     "execution_count": 35,
     "metadata": {},
     "output_type": "execute_result"
    }
   ],
   "source": [
    "german_df.shape[0]"
   ]
  },
  {
   "cell_type": "code",
   "execution_count": 36,
   "metadata": {},
   "outputs": [
    {
     "data": {
      "text/plain": [
       "Sentiment\n",
       "neutral     18507\n",
       "negative    13188\n",
       "positive     9848\n",
       "Name: count, dtype: int64"
      ]
     },
     "execution_count": 36,
     "metadata": {},
     "output_type": "execute_result"
    }
   ],
   "source": [
    "french_df['sentiment_title'] = french_df['Sentiment Vader Title'].apply(lambda x: 'positive' if x > 0.05 else ('negative' if x < -0.05 else 'neutral'))\n",
    "french_df['sentiment_text'] = french_df['Sentiment Vader Text'].apply(lambda x: 'positive' if x > 0.05 else ('negative' if x < -0.05 else 'neutral'))\n",
    "french_df['sentiment_url'] = french_df['Sentiment Vader TextURL'].apply(lambda x: 'positive' if x > 0.05 else ('negative' if x < -0.05 else 'neutral'))\n",
    "french_df_processed = french_df.drop(columns=['Sentiment Vader Title', 'Sentiment Vader Text', 'Sentiment Vader TextURL', 'Numero news', 'Numero page', 'Numero', 'Agency'])\n",
    "french_df_processed = french_df_processed.rename(columns={\"Titre\": \"title\", \"Contenu\": \"text\", \"URL\": \"url\"})\n",
    "french_df_processed = french_df_processed[['title','sentiment_title']]\n",
    "french_df_processed = french_df_processed.rename(columns={\"title\": \"Sentence\", \"sentiment_title\": \"Sentiment\"})\n",
    "french_df_processed['Sentiment'].value_counts()"
   ]
  },
  {
   "cell_type": "code",
   "execution_count": 37,
   "metadata": {},
   "outputs": [
    {
     "data": {
      "text/plain": [
       "Sentiment\n",
       "neutral     2870\n",
       "positive    1359\n",
       "negative     601\n",
       "Name: count, dtype: int64"
      ]
     },
     "execution_count": 37,
     "metadata": {},
     "output_type": "execute_result"
    }
   ],
   "source": [
    "sentiment_map = {0: 'negative', 1: 'neutral', 2: 'positive'}\n",
    "spanish_df['Sentiment'] = spanish_df['label'].map(sentiment_map)\n",
    "spanish_df.rename(columns={'sentence_es': 'Sentence'}, inplace=True)\n",
    "spanish_df = spanish_df[['Sentence', 'Sentiment']]\n",
    "spanish_df = spanish_df.dropna()\n",
    "spanish_df['Sentiment'].value_counts()"
   ]
  },
  {
   "cell_type": "code",
   "execution_count": 38,
   "metadata": {},
   "outputs": [
    {
     "data": {
      "text/plain": [
       "Sentiment\n",
       "neutral     3381\n",
       "positive    1539\n",
       "negative    1080\n",
       "Name: count, dtype: int64"
      ]
     },
     "execution_count": 38,
     "metadata": {},
     "output_type": "execute_result"
    }
   ],
   "source": [
    "sample_size = 2000\n",
    "french_df_processed = french_df_processed.sample(sample_size, random_state=42)\n",
    "german_df = german_df.sample(sample_size, random_state=42)\n",
    "spanish_df = spanish_df.sample(sample_size, random_state=42)\n",
    "df = pd.concat([german_df, french_df_processed, spanish_df], ignore_index=True)\n",
    "df['Sentiment'].value_counts()\n"
   ]
  },
  {
   "cell_type": "code",
   "execution_count": 39,
   "metadata": {},
   "outputs": [
    {
     "data": {
      "text/plain": [
       "((4800, 2), (1200, 2))"
      ]
     },
     "execution_count": 39,
     "metadata": {},
     "output_type": "execute_result"
    }
   ],
   "source": [
    "train, eval = train_test_split(df, test_size=0.2, random_state=42, stratify=df['Sentiment'])\n",
    "train.shape, eval.shape"
   ]
  },
  {
   "cell_type": "code",
   "execution_count": 40,
   "metadata": {},
   "outputs": [],
   "source": [
    "train.to_csv(\"data/train_subset.csv\", index=False)\n",
    "eval.to_csv(\"data/eval_subset.csv\", index=False)"
   ]
  }
 ],
 "metadata": {
  "kernelspec": {
   "display_name": ".venv",
   "language": "python",
   "name": "python3"
  },
  "language_info": {
   "codemirror_mode": {
    "name": "ipython",
    "version": 3
   },
   "file_extension": ".py",
   "mimetype": "text/x-python",
   "name": "python",
   "nbconvert_exporter": "python",
   "pygments_lexer": "ipython3",
   "version": "3.11.9"
  }
 },
 "nbformat": 4,
 "nbformat_minor": 2
}
