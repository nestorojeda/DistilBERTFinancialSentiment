{
 "cells": [
  {
   "cell_type": "code",
   "execution_count": 29,
   "id": "a18c1fc4",
   "metadata": {},
   "outputs": [],
   "source": [
    "import pandas as pd\n",
    "import os"
   ]
  },
  {
   "cell_type": "code",
   "execution_count": 30,
   "id": "80a65cf4",
   "metadata": {},
   "outputs": [
    {
     "name": "stdout",
     "output_type": "stream",
     "text": [
      "../datasets/synthetic\\1.csv\n",
      "../datasets/synthetic\\2.csv\n",
      "../datasets/synthetic\\3.csv\n",
      "../datasets/synthetic\\4.csv\n",
      "../datasets/synthetic\\5.csv\n",
      "../datasets/synthetic\\6.csv\n",
      "../datasets/synthetic\\7.csv\n",
      "../datasets/synthetic\\8.csv\n"
     ]
    }
   ],
   "source": [
    "dataste_dir = \"../datasets/synthetic\"\n",
    "\n",
    "# List all files in the dataset directory\n",
    "files = os.listdir(dataste_dir)\n",
    "final_dataset = pd.DataFrame()\n",
    "\n",
    "# Iterate through each file in the directory\n",
    "for file in files:\n",
    "    print(os.path.join(dataste_dir, file))\n",
    "    df = pd.read_csv(f'{dataste_dir}/{file}') \n",
    "    # Append the DataFrame to the final dataset\n",
    "    final_dataset = pd.concat([final_dataset, df], ignore_index=True)\n",
    "\n",
    "# Save the final dataset to a new CSV file\n",
    "final_dataset.to_csv(os.path.join(dataste_dir, \"synthetic_data.csv\"), index=False)"
   ]
  }
 ],
 "metadata": {
  "kernelspec": {
   "display_name": ".venv",
   "language": "python",
   "name": "python3"
  },
  "language_info": {
   "codemirror_mode": {
    "name": "ipython",
    "version": 3
   },
   "file_extension": ".py",
   "mimetype": "text/x-python",
   "name": "python",
   "nbconvert_exporter": "python",
   "pygments_lexer": "ipython3",
   "version": "3.11.9"
  }
 },
 "nbformat": 4,
 "nbformat_minor": 5
}
