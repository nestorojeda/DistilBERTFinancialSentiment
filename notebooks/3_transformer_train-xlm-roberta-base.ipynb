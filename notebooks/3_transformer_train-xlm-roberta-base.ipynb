{
  "cells": [
    {
      "cell_type": "code",
      "execution_count": 1,
      "metadata": {},
      "outputs": [
        {
          "name": "stdout",
          "output_type": "stream",
          "text": [
            "Added e:\\repo\\DistilBERTFinancialSentiment to sys.path\n"
          ]
        }
      ],
      "source": [
        "import sys\n",
        "import os\n",
        "\n",
        "# Add the parent directory to the path so Python can find the toolbox package\n",
        "module_path = os.path.abspath(os.path.join('..'))\n",
        "if module_path not in sys.path:\n",
        "    sys.path.append(module_path)\n",
        "    print(f\"Added {module_path} to sys.path\")"
      ]
    },
    {
      "cell_type": "code",
      "execution_count": 2,
      "metadata": {},
      "outputs": [
        {
          "name": "stdout",
          "output_type": "stream",
          "text": [
            "CUDA available: True\n",
            "CUDA device count: 1\n",
            "CUDA device name: NVIDIA GeForce RTX 4070\n",
            "CUDA current device: 0\n"
          ]
        }
      ],
      "source": [
        "import torch\n",
        "\n",
        "# Check CUDA availability\n",
        "print(f\"CUDA available: {torch.cuda.is_available()}\")\n",
        "if torch.cuda.is_available():\n",
        "    print(f\"CUDA device count: {torch.cuda.device_count()}\")\n",
        "    print(f\"CUDA device name: {torch.cuda.get_device_name(0)}\")\n",
        "    print(f\"CUDA current device: {torch.cuda.current_device()}\")\n",
        "    # Set deterministic behavior for reproducibility\n",
        "    torch.backends.cudnn.deterministic = True\n",
        "    torch.backends.cudnn.benchmark = False\n",
        "else:\n",
        "    print(\"WARNING: CUDA is not available. Training will be much slower on CPU.\")\n"
      ]
    },
    {
      "cell_type": "code",
      "execution_count": 3,
      "metadata": {},
      "outputs": [
        {
          "name": "stdout",
          "output_type": "stream",
          "text": [
            "Using device: cuda\n"
          ]
        }
      ],
      "source": [
        "import torch\n",
        "\n",
        "# Create weight tensor and move it to the correct device\n",
        "device = torch.device('cuda' if torch.cuda.is_available() else 'cpu')\n",
        "print(f\"Using device: {device}\")"
      ]
    },
    {
      "cell_type": "code",
      "execution_count": 4,
      "metadata": {},
      "outputs": [],
      "source": [
        "model_name = 'xlm-roberta-finetuned-financial-news-sentiment-analysis-european'"
      ]
    },
    {
      "cell_type": "code",
      "execution_count": 5,
      "metadata": {},
      "outputs": [
        {
          "name": "stderr",
          "output_type": "stream",
          "text": [
            "\u001b[34m\u001b[1mwandb\u001b[0m: Currently logged in as: \u001b[33mnestorojedagonzalez\u001b[0m (\u001b[33mnojeda\u001b[0m) to \u001b[32mhttps://api.wandb.ai\u001b[0m. Use \u001b[1m`wandb login --relogin`\u001b[0m to force relogin\n"
          ]
        },
        {
          "data": {
            "text/plain": [
              "True"
            ]
          },
          "execution_count": 5,
          "metadata": {},
          "output_type": "execute_result"
        }
      ],
      "source": [
        "import wandb\n",
        "\n",
        "wandb.login()"
      ]
    },
    {
      "cell_type": "code",
      "execution_count": 6,
      "metadata": {},
      "outputs": [],
      "source": [
        "from transformers import AutoTokenizer\n",
        "tokenizer = AutoTokenizer.from_pretrained('FacebookAI/xlm-roberta-base', num_labels=3)"
      ]
    },
    {
      "cell_type": "code",
      "execution_count": 7,
      "metadata": {},
      "outputs": [],
      "source": [
        "# ── label map ────────────────────────────────────────────────────────────────\n",
        "# Keep this next to your tokenizer/model init so everything shares the same map\n",
        "label2id = {\"neutral\": 0, \"positive\": 1, \"negative\": 2}\n",
        "id2label = {v: k for k, v in label2id.items()}"
      ]
    },
    {
      "cell_type": "code",
      "execution_count": 8,
      "metadata": {},
      "outputs": [],
      "source": [
        "from datasets import load_dataset\n",
        "# dataset = load_dataset(\"nojedag/financial-tweets-sentiment-multilingual\")\n",
        "# dataset = load_dataset(\"nojedag/financial_phrasebank_multilingual\")\n",
        "dataset = load_dataset(\"nojedag/financial_phrasebank_multilingual_augmented\")\n",
        "\n",
        "def filter_by_token_length(example):\n",
        "    tokens = tokenizer.tokenize(example['sentence'])\n",
        "    return len(tokens) <= 512\n",
        "\n",
        "def prepare_dataset(dataset):\n",
        "    # dataset = dataset.filter(lambda example: filter_by_token_length(example))\n",
        "    # dataset = dataset.rename_column(\"sentiment\", \"labels\")\n",
        "    return dataset\n",
        "\n",
        "dataset = prepare_dataset(dataset)"
      ]
    },
    {
      "cell_type": "code",
      "execution_count": 9,
      "metadata": {},
      "outputs": [
        {
          "data": {
            "application/vnd.jupyter.widget-view+json": {
              "model_id": "6701d0a50f274b0894eb19c10ecdd3a0",
              "version_major": 2,
              "version_minor": 0
            },
            "text/plain": [
              "Filter:   0%|          | 0/19358 [00:00<?, ? examples/s]"
            ]
          },
          "metadata": {},
          "output_type": "display_data"
        },
        {
          "data": {
            "application/vnd.jupyter.widget-view+json": {
              "model_id": "41eac31cd3164bcb87d6b53ce720f77f",
              "version_major": 2,
              "version_minor": 0
            },
            "text/plain": [
              "Filter:   0%|          | 0/19358 [00:00<?, ? examples/s]"
            ]
          },
          "metadata": {},
          "output_type": "display_data"
        },
        {
          "data": {
            "application/vnd.jupyter.widget-view+json": {
              "model_id": "5767b5eca2c04f198267c5ac776675cb",
              "version_major": 2,
              "version_minor": 0
            },
            "text/plain": [
              "Filter:   0%|          | 0/19358 [00:00<?, ? examples/s]"
            ]
          },
          "metadata": {},
          "output_type": "display_data"
        },
        {
          "data": {
            "image/png": "[encoded data removed]",
            "text/plain": [
              "<Figure size 1000x600 with 1 Axes>"
            ]
          },
          "metadata": {},
          "output_type": "display_data"
        }
      ],
      "source": [
        "# EDA\n",
        "import matplotlib.pyplot as plt\n",
        "import seaborn as sns\n",
        "\n",
        "def plot_class_distribution(dataset):\n",
        "    # Get the unique label values\n",
        "    unique_labels = sorted(set(dataset['train']['labels']))\n",
        "    \n",
        "    # Count the occurrences of each label\n",
        "    counts = [dataset['train'].filter(lambda x: x['labels'] == i).num_rows for i in unique_labels]\n",
        "    \n",
        "    # Get the label names using id2label (already defined in the notebook)\n",
        "    label_names = [id2label[i] for i in unique_labels]\n",
        "    \n",
        "    plt.figure(figsize=(10, 6))\n",
        "    sns.barplot(x=label_names, y=counts)\n",
        "    plt.title('Class Distribution')\n",
        "    plt.xlabel('Labels')\n",
        "    plt.ylabel('Counts')\n",
        "    plt.xticks(rotation=45)\n",
        "    plt.show()\n",
        "\n",
        "plot_class_distribution(dataset)"
      ]
    },
    {
      "cell_type": "code",
      "execution_count": 10,
      "metadata": {},
      "outputs": [],
      "source": [
        "# let's tokenize the data for the model to be able to understand\n",
        "def tokenize_data(example):\n",
        "    return tokenizer(example['sentence'], padding='max_length', truncation=True)    "
      ]
    },
    {
      "cell_type": "code",
      "execution_count": 11,
      "metadata": {},
      "outputs": [
        {
          "data": {
            "application/vnd.jupyter.widget-view+json": {
              "model_id": "db044ef3195c4e9a9178488e51ee4696",
              "version_major": 2,
              "version_minor": 0
            },
            "text/plain": [
              "Map:   0%|          | 0/19358 [00:00<?, ? examples/s]"
            ]
          },
          "metadata": {},
          "output_type": "display_data"
        },
        {
          "data": {
            "application/vnd.jupyter.widget-view+json": {
              "model_id": "9b9a03a3f9894eda92ea5b88f64b88d3",
              "version_major": 2,
              "version_minor": 0
            },
            "text/plain": [
              "Map:   0%|          | 0/8310 [00:00<?, ? examples/s]"
            ]
          },
          "metadata": {},
          "output_type": "display_data"
        }
      ],
      "source": [
        "# Tokenize the dataset\n",
        "dataset = dataset.map(tokenize_data, batched=True)"
      ]
    },
    {
      "cell_type": "code",
      "execution_count": 12,
      "metadata": {},
      "outputs": [
        {
          "name": "stderr",
          "output_type": "stream",
          "text": [
            "Some weights of XLMRobertaForSequenceClassification were not initialized from the model checkpoint at FacebookAI/xlm-roberta-base and are newly initialized: ['classifier.dense.bias', 'classifier.dense.weight', 'classifier.out_proj.bias', 'classifier.out_proj.weight']\n",
            "You should probably TRAIN this model on a down-stream task to be able to use it for predictions and inference.\n"
          ]
        },
        {
          "name": "stdout",
          "output_type": "stream",
          "text": [
            "Model moved to cuda\n"
          ]
        }
      ],
      "source": [
        "from transformers import AutoModelForSequenceClassification\n",
        "\n",
        "# Loading a pretrain model while specifying the number of labels in our dataset for fine-tuning\n",
        "model = AutoModelForSequenceClassification.from_pretrained(\"FacebookAI/xlm-roberta-base\", num_labels=3)\n",
        "# Explicitly move model to the correct device\n",
        "model = model.to(device)\n",
        "print(f\"Model moved to {device}\")"
      ]
    },
    {
      "cell_type": "code",
      "execution_count": 13,
      "metadata": {},
      "outputs": [],
      "source": [
        "# the default batch size for training arguments\n",
        "batch_size = 16\n",
        "\n",
        "# set number of epochs\n",
        "number_of_epochs = 5\n",
        "# let set the logging steps\n",
        "logging_steps = len(dataset['train']) // batch_size # it should log each batch \n",
        "\n",
        "steps = (len(dataset['train']) / batch_size) * number_of_epochs\n",
        "warmup_steps = int(0.1 * steps)"
      ]
    },
    {
      "cell_type": "code",
      "execution_count": 14,
      "metadata": {},
      "outputs": [],
      "source": [
        "import torch\n",
        "from transformers import Trainer\n",
        "\n",
        "class CustomTrainer(Trainer):\n",
        "    def __init__(self, weight_tensor, *args, **kwargs):\n",
        "        super().__init__(*args, **kwargs)\n",
        "        # Store the original weight tensor and create loss function with it on the right device\n",
        "        self.original_weight_tensor = weight_tensor\n",
        "        self.loss_fct = torch.nn.CrossEntropyLoss(weight=weight_tensor.to(self.model.device))\n",
        "\n",
        "    def compute_loss(self, model, inputs, return_outputs=False, num_items_in_batch=None):\n",
        "        # Ensure the loss function's weight tensor is on the same device as the model\n",
        "        if hasattr(self.loss_fct, 'weight') and self.loss_fct.weight is not None:\n",
        "            device = next(model.parameters()).device  # Get current model device\n",
        "            if self.loss_fct.weight.device != device:\n",
        "                # Recreate loss function with weight on the correct device\n",
        "                self.loss_fct = torch.nn.CrossEntropyLoss(\n",
        "                    weight=self.original_weight_tensor.to(device)\n",
        "                )\n",
        "        \n",
        "        labels = inputs.pop(\"labels\")\n",
        "        outputs = model(**inputs)\n",
        "        logits = outputs.get(\"logits\")\n",
        "        # Ensure both tensors are on the same device\n",
        "        device = logits.device\n",
        "        labels = labels.to(device)\n",
        "        loss = self.loss_fct(logits.view(-1, self.model.config.num_labels), labels.view(-1))\n",
        "        return (loss, outputs) if return_outputs else loss"
      ]
    },
    {
      "cell_type": "code",
      "execution_count": 15,
      "metadata": {},
      "outputs": [],
      "source": [
        "import numpy as np\n",
        "from typing import Dict, Any\n",
        "from sklearn.metrics import accuracy_score, precision_recall_fscore_support\n",
        "\n",
        "# ── metric function for Trainer ──────────────────────────────────────────────\n",
        "def compute_metrics(eval_pred) -> Dict[str, Any]:\n",
        "    \"\"\"\n",
        "    Sentiment‑specific compute_metrics for 3‑way classification.\n",
        "    \n",
        "    Returns overall accuracy + macro P/R/F1 *and* per‑class precision/recall/F1,\n",
        "    all as flat keys so Trainer logs cleanly.\n",
        "    \"\"\"\n",
        "    # A. unpack\n",
        "    logits, labels = eval_pred\n",
        "    labels = labels.astype(int)\n",
        "\n",
        "    # B. post‑process: softmax → argmax\n",
        "    preds = np.argmax(logits, axis=-1)\n",
        "\n",
        "    # C. overall metrics\n",
        "    accuracy = accuracy_score(labels, preds)\n",
        "    p_macro, r_macro, f1_macro, _ = precision_recall_fscore_support(\n",
        "        labels, preds, average=\"macro\", zero_division=0\n",
        "    )\n",
        "\n",
        "    # D. per‑class metrics\n",
        "    # precision_recall_fscore_support returns arrays ordered by the label ids we pass\n",
        "    p_cls, r_cls, f1_cls, _ = precision_recall_fscore_support(\n",
        "        labels, preds, labels=list(id2label.keys()), zero_division=0\n",
        "    )\n",
        "\n",
        "    per_class = {}\n",
        "    for idx, cls_name in id2label.items():\n",
        "        per_class[f\"{cls_name}_precision\"] = p_cls[idx]\n",
        "        per_class[f\"{cls_name}_recall\"]    = r_cls[idx]\n",
        "        per_class[f\"{cls_name}_f1\"]        = f1_cls[idx]\n",
        "\n",
        "    # E. flatten & return\n",
        "    return {\n",
        "        \"accuracy\": accuracy,\n",
        "        \"macro_precision\": p_macro,\n",
        "        \"macro_recall\": r_macro,\n",
        "        \"macro_f1\": f1_macro,\n",
        "        **per_class,\n",
        "    }\n"
      ]
    },
    {
      "cell_type": "code",
      "execution_count": 16,
      "metadata": {},
      "outputs": [],
      "source": [
        "train_dataset = dataset['train'].shuffle(seed=42) \n",
        "eval_dataset = dataset['test'].shuffle(seed=42)"
      ]
    },
    {
      "cell_type": "code",
      "execution_count": 17,
      "metadata": {},
      "outputs": [],
      "source": [
        "from transformers import DataCollatorWithPadding\n",
        "data_collator = DataCollatorWithPadding(tokenizer=tokenizer, pad_to_multiple_of=8) # pad to 8 for GPU efficiency"
      ]
    },
    {
      "cell_type": "code",
      "execution_count": 18,
      "metadata": {},
      "outputs": [
        {
          "name": "stdout",
          "output_type": "stream",
          "text": [
            "Training will use device: CUDA\n",
            "FP16 (mixed precision): True\n",
            "Batch size per device: 16\n",
            "Gradient accumulation steps: 2\n",
            "Effective batch size: 32\n"
          ]
        }
      ],
      "source": [
        "from transformers import TrainingArguments\n",
        "from toolbox.utils import get_output_dir\n",
        "import torch\n",
        "from transformers import EarlyStoppingCallback\n",
        "\n",
        "training_args = TrainingArguments(\n",
        "                                  num_train_epochs=number_of_epochs, \n",
        "                                  load_best_model_at_end=True,\n",
        "                                  eval_strategy='steps', \n",
        "                                  save_strategy='steps',\n",
        "                                  learning_rate=5e-5,  \n",
        "                                  weight_decay=0.01,  # added weight decay\n",
        "                                  logging_steps=logging_steps,\n",
        "                                  warmup_steps= warmup_steps,\n",
        "                                  save_steps=1000,\n",
        "                                  eval_steps=500,\n",
        "                                  output_dir=get_output_dir(model_name),\n",
        "                                  run_name=model_name,\n",
        "                                  report_to=\"wandb\",\n",
        "                                  per_device_train_batch_size=batch_size,\n",
        "                                  per_device_eval_batch_size=batch_size,\n",
        "                                  gradient_accumulation_steps=2,  # accumulate gradients over 2 steps\n",
        "                                  fp16=True,  # Use mixed precision training\n",
        "                                  no_cuda=False,  # Ensure CUDA is used if available\n",
        "                                  dataloader_pin_memory=True  # Speed up data transfer to GPU\n",
        "                                )\n",
        "\n",
        "# Print device information for training\n",
        "print(f\"Training will use device: {'CUDA' if not training_args.no_cuda and torch.cuda.is_available() else 'CPU'}\")\n",
        "print(f\"FP16 (mixed precision): {training_args.fp16}\")\n",
        "print(f\"Batch size per device: {training_args.per_device_train_batch_size}\")\n",
        "print(f\"Gradient accumulation steps: {training_args.gradient_accumulation_steps}\")\n",
        "print(f\"Effective batch size: {training_args.per_device_train_batch_size * training_args.gradient_accumulation_steps * (torch.cuda.device_count() if torch.cuda.is_available() else 1)}\")"
      ]
    },
    {
      "cell_type": "code",
      "execution_count": 19,
      "metadata": {},
      "outputs": [
        {
          "name": "stdout",
          "output_type": "stream",
          "text": [
            "Label neutral: 0.2297 (count: 8826)\n",
            "Label positive: 0.3939 (count: 5147)\n",
            "Label negative: 0.3765 (count: 5385)\n"
          ]
        }
      ],
      "source": [
        "from transformers import Trainer\n",
        "\n",
        "from collections import Counter\n",
        "\n",
        "labels = dataset['train']['labels']\n",
        "counts = Counter(labels)\n",
        "total = sum(counts.values())\n",
        "weights = torch.tensor([total/counts[i] for i in range(3)], dtype=torch.float)\n",
        "weights = weights / weights.sum()  # normalize\n",
        "for labels, weight in zip(range(3), weights):\n",
        "    print(f\"Label {id2label[labels]}: {weight.item():.4f} (count: {counts[labels]})\")"
      ]
    },
    {
      "cell_type": "code",
      "execution_count": 20,
      "metadata": {},
      "outputs": [
        {
          "name": "stderr",
          "output_type": "stream",
          "text": [
            "C:\\Users\\nestor\\AppData\\Local\\Temp\\ipykernel_9892\\1216266725.py:1: UserWarning: To copy construct from a tensor, it is recommended to use sourceTensor.detach().clone() or sourceTensor.detach().clone().requires_grad_(True), rather than torch.tensor(sourceTensor).\n",
            "  weight_tensor = torch.tensor(weights)\n"
          ]
        }
      ],
      "source": [
        "weight_tensor = torch.tensor(weights)\n",
        "# Ensure weight tensor is on the correct device before creating the trainer\n",
        "device = next(model.parameters()).device\n",
        "weight_tensor_device = weight_tensor.to(device)\n",
        "\n",
        "trainer = CustomTrainer(\n",
        "    model=model, args=training_args, train_dataset=train_dataset, eval_dataset=eval_dataset, \n",
        "    weight_tensor=weight_tensor_device, data_collator=data_collator, compute_metrics=compute_metrics,\n",
        "    callbacks=[EarlyStoppingCallback(early_stopping_patience=2)],\n",
        ")"
      ]
    },
    {
      "cell_type": "code",
      "execution_count": 21,
      "metadata": {},
      "outputs": [
        {
          "name": "stdout",
          "output_type": "stream",
          "text": [
            "GPU memory before creating trainer:\n",
            "GPU Memory: Total: 12.88 GB | Reserved: 1.17 GB | Allocated: 1.11 GB | Max Allocated: 1.11 GB\n"
          ]
        }
      ],
      "source": [
        "# Function to monitor GPU memory usage\n",
        "def print_gpu_memory_stats():\n",
        "    if torch.cuda.is_available():\n",
        "        # Get the current GPU index\n",
        "        current_device = torch.cuda.current_device()\n",
        "        \n",
        "        # Reserved memory in GB\n",
        "        reserved = torch.cuda.memory_reserved(current_device) / 1e9\n",
        "        \n",
        "        # Allocated memory in GB\n",
        "        allocated = torch.cuda.memory_allocated(current_device) / 1e9\n",
        "        \n",
        "        # Max allocated memory in GB\n",
        "        max_allocated = torch.cuda.max_memory_allocated(current_device) / 1e9\n",
        "        \n",
        "        # Get total memory in GB\n",
        "        total = torch.cuda.get_device_properties(current_device).total_memory / 1e9\n",
        "        \n",
        "        print(f\"GPU Memory: Total: {total:.2f} GB | Reserved: {reserved:.2f} GB | Allocated: {allocated:.2f} GB | Max Allocated: {max_allocated:.2f} GB\")\n",
        "    else:\n",
        "        print(\"GPU is not available.\")\n",
        "\n",
        "# Print memory status before creating trainer\n",
        "print(\"GPU memory before creating trainer:\")\n",
        "print_gpu_memory_stats()"
      ]
    },
    {
      "cell_type": "code",
      "execution_count": 22,
      "metadata": {},
      "outputs": [
        {
          "name": "stdout",
          "output_type": "stream",
          "text": [
            "Starting training...\n"
          ]
        },
        {
          "data": {
            "text/html": [
              "Tracking run with wandb version 0.19.11"
            ],
            "text/plain": [
              "<IPython.core.display.HTML object>"
            ]
          },
          "metadata": {},
          "output_type": "display_data"
        },
        {
          "data": {
            "text/html": [
              "Run data is saved locally in <code>e:\\repo\\DistilBERTFinancialSentiment\\notebooks\\wandb\\run-20250516_140522-g9h2wq26</code>"
            ],
            "text/plain": [
              "<IPython.core.display.HTML object>"
            ]
          },
          "metadata": {},
          "output_type": "display_data"
        },
        {
          "data": {
            "text/html": [
              "Syncing run <strong><a href='https://wandb.ai/nojeda/huggingface/runs/g9h2wq26' target=\"_blank\">xlm-roberta-finetuned-financial-news-sentiment-analysis-european</a></strong> to <a href='https://wandb.ai/nojeda/huggingface' target=\"_blank\">Weights & Biases</a> (<a href='https://wandb.me/developer-guide' target=\"_blank\">docs</a>)<br>"
            ],
            "text/plain": [
              "<IPython.core.display.HTML object>"
            ]
          },
          "metadata": {},
          "output_type": "display_data"
        },
        {
          "data": {
            "text/html": [
              " View project at <a href='https://wandb.ai/nojeda/huggingface' target=\"_blank\">https://wandb.ai/nojeda/huggingface</a>"
            ],
            "text/plain": [
              "<IPython.core.display.HTML object>"
            ]
          },
          "metadata": {},
          "output_type": "display_data"
        },
        {
          "data": {
            "text/html": [
              " View run at <a href='https://wandb.ai/nojeda/huggingface/runs/g9h2wq26' target=\"_blank\">https://wandb.ai/nojeda/huggingface/runs/g9h2wq26</a>"
            ],
            "text/plain": [
              "<IPython.core.display.HTML object>"
            ]
          },
          "metadata": {},
          "output_type": "display_data"
        },
        {
          "data": {
            "text/html": [
              "\n",
              "    <div>\n",
              "      \n",
              "      <progress value='2000' max='3025' style='width:300px; height:20px; vertical-align: middle;'></progress>\n",
              "      [2000/3025 15:17 < 07:50, 2.18 it/s, Epoch 3/5]\n",
              "    </div>\n",
              "    <table border=\"1\" class=\"dataframe\">\n",
              "  <thead>\n",
              " <tr style=\"text-align: left;\">\n",
              "      <th>Step</th>\n",
              "      <th>Training Loss</th>\n",
              "      <th>Validation Loss</th>\n",
              "      <th>Accuracy</th>\n",
              "      <th>Macro Precision</th>\n",
              "      <th>Macro Recall</th>\n",
              "      <th>Macro F1</th>\n",
              "      <th>Neutral Precision</th>\n",
              "      <th>Neutral Recall</th>\n",
              "      <th>Neutral F1</th>\n",
              "      <th>Positive Precision</th>\n",
              "      <th>Positive Recall</th>\n",
              "      <th>Positive F1</th>\n",
              "      <th>Negative Precision</th>\n",
              "      <th>Negative Recall</th>\n",
              "      <th>Negative F1</th>\n",
              "    </tr>\n",
              "  </thead>\n",
              "  <tbody>\n",
              "    <tr>\n",
              "      <td>500</td>\n",
              "      <td>No log</td>\n",
              "      <td>0.512450</td>\n",
              "      <td>0.775451</td>\n",
              "      <td>0.779971</td>\n",
              "      <td>0.794063</td>\n",
              "      <td>0.775025</td>\n",
              "      <td>0.939270</td>\n",
              "      <td>0.682458</td>\n",
              "      <td>0.790530</td>\n",
              "      <td>0.739700</td>\n",
              "      <td>0.849624</td>\n",
              "      <td>0.790860</td>\n",
              "      <td>0.660944</td>\n",
              "      <td>0.850106</td>\n",
              "      <td>0.743685</td>\n",
              "    </tr>\n",
              "    <tr>\n",
              "      <td>1000</td>\n",
              "      <td>No log</td>\n",
              "      <td>0.456660</td>\n",
              "      <td>0.814561</td>\n",
              "      <td>0.820691</td>\n",
              "      <td>0.831616</td>\n",
              "      <td>0.815054</td>\n",
              "      <td>0.957917</td>\n",
              "      <td>0.727125</td>\n",
              "      <td>0.826716</td>\n",
              "      <td>0.822222</td>\n",
              "      <td>0.850951</td>\n",
              "      <td>0.836340</td>\n",
              "      <td>0.681933</td>\n",
              "      <td>0.916773</td>\n",
              "      <td>0.782105</td>\n",
              "    </tr>\n",
              "    <tr>\n",
              "      <td>1500</td>\n",
              "      <td>0.588100</td>\n",
              "      <td>0.464657</td>\n",
              "      <td>0.830445</td>\n",
              "      <td>0.827437</td>\n",
              "      <td>0.843673</td>\n",
              "      <td>0.830612</td>\n",
              "      <td>0.926981</td>\n",
              "      <td>0.766378</td>\n",
              "      <td>0.839063</td>\n",
              "      <td>0.833805</td>\n",
              "      <td>0.911986</td>\n",
              "      <td>0.871145</td>\n",
              "      <td>0.721524</td>\n",
              "      <td>0.852654</td>\n",
              "      <td>0.781627</td>\n",
              "    </tr>\n",
              "    <tr>\n",
              "      <td>2000</td>\n",
              "      <td>0.588100</td>\n",
              "      <td>0.493410</td>\n",
              "      <td>0.843321</td>\n",
              "      <td>0.839872</td>\n",
              "      <td>0.858616</td>\n",
              "      <td>0.843605</td>\n",
              "      <td>0.944850</td>\n",
              "      <td>0.769897</td>\n",
              "      <td>0.848449</td>\n",
              "      <td>0.836982</td>\n",
              "      <td>0.946926</td>\n",
              "      <td>0.888566</td>\n",
              "      <td>0.737783</td>\n",
              "      <td>0.859023</td>\n",
              "      <td>0.793800</td>\n",
              "    </tr>\n",
              "  </tbody>\n",
              "</table><p>"
            ],
            "text/plain": [
              "<IPython.core.display.HTML object>"
            ]
          },
          "metadata": {},
          "output_type": "display_data"
        },
        {
          "name": "stdout",
          "output_type": "stream",
          "text": [
            "\n",
            "Training completed. GPU memory usage:\n",
            "GPU Memory: Total: 12.88 GB | Reserved: 8.40 GB | Allocated: 3.36 GB | Max Allocated: 8.14 GB\n"
          ]
        }
      ],
      "source": [
        "# Start training\n",
        "print(\"Starting training...\")\n",
        "trainer.train()\n",
        "\n",
        "# Print memory usage after training\n",
        "print(\"\\nTraining completed. GPU memory usage:\")\n",
        "print_gpu_memory_stats()"
      ]
    },
    {
      "cell_type": "code",
      "execution_count": 23,
      "metadata": {},
      "outputs": [
        {
          "name": "stdout",
          "output_type": "stream",
          "text": [
            "Evaluation trainer using device: cuda:0\n"
          ]
        }
      ],
      "source": [
        "trainer_eval = Trainer(\n",
        "    model=model.to(device),  # Ensure model is on the correct device\n",
        "    args=training_args,\n",
        "    train_dataset=train_dataset,\n",
        "    eval_dataset=eval_dataset,\n",
        "    compute_metrics=compute_metrics\n",
        ")\n",
        "print(f\"Evaluation trainer using device: {next(model.parameters()).device}\")"
      ]
    },
    {
      "cell_type": "code",
      "execution_count": 24,
      "metadata": {},
      "outputs": [
        {
          "data": {
            "text/html": [],
            "text/plain": [
              "<IPython.core.display.HTML object>"
            ]
          },
          "metadata": {},
          "output_type": "display_data"
        },
        {
          "data": {
            "text/plain": [
              "{'eval_loss': 0.46868354082107544,\n",
              " 'eval_model_preparation_time': 0.0025,\n",
              " 'eval_accuracy': 0.814560770156438,\n",
              " 'eval_macro_precision': 0.8206908406040951,\n",
              " 'eval_macro_recall': 0.8316162660449895,\n",
              " 'eval_macro_f1': 0.8150535099568814,\n",
              " 'eval_neutral_precision': 0.9579172610556348,\n",
              " 'eval_neutral_recall': 0.7271250676773146,\n",
              " 'eval_neutral_f1': 0.8267159125884888,\n",
              " 'eval_positive_precision': 0.8222222222222222,\n",
              " 'eval_positive_recall': 0.8509509066784608,\n",
              " 'eval_positive_f1': 0.8363399261030211,\n",
              " 'eval_negative_precision': 0.6819330385344283,\n",
              " 'eval_negative_recall': 0.9167728237791932,\n",
              " 'eval_negative_f1': 0.7821046911791342,\n",
              " 'eval_runtime': 27.3869,\n",
              " 'eval_samples_per_second': 303.43,\n",
              " 'eval_steps_per_second': 18.987}"
            ]
          },
          "execution_count": 24,
          "metadata": {},
          "output_type": "execute_result"
        }
      ],
      "source": [
        "trainer_eval.evaluate()"
      ]
    },
    {
      "cell_type": "code",
      "execution_count": 25,
      "metadata": {},
      "outputs": [],
      "source": [
        "eval_output = trainer_eval.predict(eval_dataset)\n",
        "logits = eval_output.predictions  # shape (N_examples, N_labels)\n",
        "labels = eval_output.label_ids     # shape (N_examples,)\n",
        "\n",
        "preds = np.argmax(logits, axis=1)"
      ]
    },
    {
      "cell_type": "code",
      "execution_count": 26,
      "metadata": {},
      "outputs": [
        {
          "data": {
            "image/png": "[encoded data removed]",
            "text/plain": [
              "<Figure size 600x600 with 1 Axes>"
            ]
          },
          "metadata": {},
          "output_type": "display_data"
        }
      ],
      "source": [
        "from sklearn.metrics import confusion_matrix, ConfusionMatrixDisplay\n",
        "cm = confusion_matrix(labels, preds)\n",
        "\n",
        "display_labels = [\"neutral\", \"positive\", \"negative\"]  # Based on label_map in transform_labels\n",
        "disp = ConfusionMatrixDisplay(\n",
        "    confusion_matrix=cm,\n",
        "    display_labels=display_labels\n",
        ")\n",
        "fig, ax = plt.subplots(figsize=(6,6))\n",
        "disp.plot(ax=ax, cmap=\"Blues\", colorbar=False)\n",
        "plt.title(\"Confusion Matrix — SST-2 Validation\")\n",
        "plt.show()"
      ]
    },
    {
      "cell_type": "code",
      "execution_count": 28,
      "metadata": {},
      "outputs": [
        {
          "data": {
            "application/vnd.jupyter.widget-view+json": {
              "model_id": "3864672def6d4c7aa4c42c1686f4347d",
              "version_major": 2,
              "version_minor": 0
            },
            "text/plain": [
              "README.md:   0%|          | 0.00/2.06k [00:00<?, ?B/s]"
            ]
          },
          "metadata": {},
          "output_type": "display_data"
        },
        {
          "data": {
            "application/vnd.jupyter.widget-view+json": {
              "model_id": "85b41aea8e55426d99f8cea7c6827fe7",
              "version_major": 2,
              "version_minor": 0
            },
            "text/plain": [
              "model.safetensors:   0%|          | 0.00/1.11G [00:00<?, ?B/s]"
            ]
          },
          "metadata": {},
          "output_type": "display_data"
        },
        {
          "data": {
            "application/vnd.jupyter.widget-view+json": {
              "model_id": "0b346d2fce7b4091b0b1c2e4a6796b0e",
              "version_major": 2,
              "version_minor": 0
            },
            "text/plain": [
              "training_args.bin:   0%|          | 0.00/5.91k [00:00<?, ?B/s]"
            ]
          },
          "metadata": {},
          "output_type": "display_data"
        },
        {
          "data": {
            "text/plain": [
              "CommitInfo(commit_url='https://huggingface.co/nojedag/xlm-roberta-finetuned-financial-news-sentiment-analysis-european/commit/469563d3d5863ad12bc39d178b68362cc2017fdd', commit_message='End of training', commit_description='', oid='469563d3d5863ad12bc39d178b68362cc2017fdd', pr_url=None, repo_url=RepoUrl('https://huggingface.co/nojedag/xlm-roberta-finetuned-financial-news-sentiment-analysis-european', endpoint='https://huggingface.co', repo_type='model', repo_id='nojedag/xlm-roberta-finetuned-financial-news-sentiment-analysis-european'), pr_revision=None, pr_num=None)"
            ]
          },
          "execution_count": 28,
          "metadata": {},
          "output_type": "execute_result"
        }
      ],
      "source": [
        "# If you want to push to the hub, uncomment this line\n",
        "model.push_to_hub(f'nojedag/{model_name}')\n",
        "trainer.push_to_hub()\n",
        "trainer_eval.push_to_hub()"
      ]
    },
    {
      "cell_type": "code",
      "execution_count": 29,
      "metadata": {},
      "outputs": [
        {
          "name": "stderr",
          "output_type": "stream",
          "text": [
            "\u001b[34m\u001b[1mwandb\u001b[0m: \u001b[32m\u001b[41mERROR\u001b[0m The nbformat package was not found. It is required to save notebook history.\n"
          ]
        },
        {
          "data": {
            "text/html": [],
            "text/plain": [
              "<IPython.core.display.HTML object>"
            ]
          },
          "metadata": {},
          "output_type": "display_data"
        },
        {
          "data": {
            "text/html": [
              "<br>    <style><br>        .wandb-row {<br>            display: flex;<br>            flex-direction: row;<br>            flex-wrap: wrap;<br>            justify-content: flex-start;<br>            width: 100%;<br>        }<br>        .wandb-col {<br>            display: flex;<br>            flex-direction: column;<br>            flex-basis: 100%;<br>            flex: 1;<br>            padding: 10px;<br>        }<br>    </style><br><div class=\"wandb-row\"><div class=\"wandb-col\"><h3>Run history:</h3><br/><table class=\"wandb\"><tr><td>eval/accuracy</td><td>▁▅▇█▅</td></tr><tr><td>eval/loss</td><td>█▁▂▆▃</td></tr><tr><td>eval/macro_f1</td><td>▁▅▇█▅</td></tr><tr><td>eval/macro_precision</td><td>▁▆▇█▆</td></tr><tr><td>eval/macro_recall</td><td>▁▅▆█▅</td></tr><tr><td>eval/model_preparation_time</td><td>▁</td></tr><tr><td>eval/negative_f1</td><td>▁▆▆█▆</td></tr><tr><td>eval/negative_precision</td><td>▁▃▇█▃</td></tr><tr><td>eval/negative_recall</td><td>▁█▁▂█</td></tr><tr><td>eval/neutral_f1</td><td>▁▅▇█▅</td></tr><tr><td>eval/neutral_precision</td><td>▄█▁▅█</td></tr><tr><td>eval/neutral_recall</td><td>▁▅██▅</td></tr><tr><td>eval/positive_f1</td><td>▁▄▇█▄</td></tr><tr><td>eval/positive_precision</td><td>▁▇██▇</td></tr><tr><td>eval/positive_recall</td><td>▁▁▅█▁</td></tr><tr><td>eval/runtime</td><td>▂▄█▆▁</td></tr><tr><td>eval/samples_per_second</td><td>▇▅▁▃█</td></tr><tr><td>eval/steps_per_second</td><td>▇▅▁▃█</td></tr><tr><td>test/accuracy</td><td>▁</td></tr><tr><td>test/loss</td><td>▁</td></tr><tr><td>test/macro_f1</td><td>▁</td></tr><tr><td>test/macro_precision</td><td>▁</td></tr><tr><td>test/macro_recall</td><td>▁</td></tr><tr><td>test/model_preparation_time</td><td>▁</td></tr><tr><td>test/negative_f1</td><td>▁</td></tr><tr><td>test/negative_precision</td><td>▁</td></tr><tr><td>test/negative_recall</td><td>▁</td></tr><tr><td>test/neutral_f1</td><td>▁</td></tr><tr><td>test/neutral_precision</td><td>▁</td></tr><tr><td>test/neutral_recall</td><td>▁</td></tr><tr><td>test/positive_f1</td><td>▁</td></tr><tr><td>test/positive_precision</td><td>▁</td></tr><tr><td>test/positive_recall</td><td>▁</td></tr><tr><td>test/runtime</td><td>▁</td></tr><tr><td>test/samples_per_second</td><td>▁</td></tr><tr><td>test/steps_per_second</td><td>▁</td></tr><tr><td>train/epoch</td><td>▁▃▄▆██</td></tr><tr><td>train/global_step</td><td>▃▅▅▆██▁▁</td></tr><tr><td>train/grad_norm</td><td>▁</td></tr><tr><td>train/learning_rate</td><td>▁</td></tr><tr><td>train/loss</td><td>▁</td></tr></table><br/></div><div class=\"wandb-col\"><h3>Run summary:</h3><br/><table class=\"wandb\"><tr><td>eval/accuracy</td><td>0.81456</td></tr><tr><td>eval/loss</td><td>0.46868</td></tr><tr><td>eval/macro_f1</td><td>0.81505</td></tr><tr><td>eval/macro_precision</td><td>0.82069</td></tr><tr><td>eval/macro_recall</td><td>0.83162</td></tr><tr><td>eval/model_preparation_time</td><td>0.0025</td></tr><tr><td>eval/negative_f1</td><td>0.7821</td></tr><tr><td>eval/negative_precision</td><td>0.68193</td></tr><tr><td>eval/negative_recall</td><td>0.91677</td></tr><tr><td>eval/neutral_f1</td><td>0.82672</td></tr><tr><td>eval/neutral_precision</td><td>0.95792</td></tr><tr><td>eval/neutral_recall</td><td>0.72713</td></tr><tr><td>eval/positive_f1</td><td>0.83634</td></tr><tr><td>eval/positive_precision</td><td>0.82222</td></tr><tr><td>eval/positive_recall</td><td>0.85095</td></tr><tr><td>eval/runtime</td><td>27.3869</td></tr><tr><td>eval/samples_per_second</td><td>303.43</td></tr><tr><td>eval/steps_per_second</td><td>18.987</td></tr><tr><td>test/accuracy</td><td>0.81456</td></tr><tr><td>test/loss</td><td>0.46868</td></tr><tr><td>test/macro_f1</td><td>0.81505</td></tr><tr><td>test/macro_precision</td><td>0.82069</td></tr><tr><td>test/macro_recall</td><td>0.83162</td></tr><tr><td>test/model_preparation_time</td><td>0.0025</td></tr><tr><td>test/negative_f1</td><td>0.7821</td></tr><tr><td>test/negative_precision</td><td>0.68193</td></tr><tr><td>test/negative_recall</td><td>0.91677</td></tr><tr><td>test/neutral_f1</td><td>0.82672</td></tr><tr><td>test/neutral_precision</td><td>0.95792</td></tr><tr><td>test/neutral_recall</td><td>0.72713</td></tr><tr><td>test/positive_f1</td><td>0.83634</td></tr><tr><td>test/positive_precision</td><td>0.82222</td></tr><tr><td>test/positive_recall</td><td>0.85095</td></tr><tr><td>test/runtime</td><td>27.9254</td></tr><tr><td>test/samples_per_second</td><td>297.578</td></tr><tr><td>test/steps_per_second</td><td>18.621</td></tr><tr><td>total_flos</td><td>1.6837680054085632e+16</td></tr><tr><td>train/epoch</td><td>3.30579</td></tr><tr><td>train/global_step</td><td>0</td></tr><tr><td>train/grad_norm</td><td>5.01413</td></tr><tr><td>train/learning_rate</td><td>4e-05</td></tr><tr><td>train/loss</td><td>0.5881</td></tr><tr><td>train_loss</td><td>0.46061</td></tr><tr><td>train_runtime</td><td>920.2094</td></tr><tr><td>train_samples_per_second</td><td>105.183</td></tr><tr><td>train_steps_per_second</td><td>3.287</td></tr></table><br/></div></div>"
            ],
            "text/plain": [
              "<IPython.core.display.HTML object>"
            ]
          },
          "metadata": {},
          "output_type": "display_data"
        },
        {
          "data": {
            "text/html": [
              " View run <strong style=\"color:#cdcd00\">xlm-roberta-finetuned-financial-news-sentiment-analysis-european</strong> at: <a href='https://wandb.ai/nojeda/huggingface/runs/g9h2wq26' target=\"_blank\">https://wandb.ai/nojeda/huggingface/runs/g9h2wq26</a><br> View project at: <a href='https://wandb.ai/nojeda/huggingface' target=\"_blank\">https://wandb.ai/nojeda/huggingface</a><br>Synced 5 W&B file(s), 0 media file(s), 0 artifact file(s) and 0 other file(s)"
            ],
            "text/plain": [
              "<IPython.core.display.HTML object>"
            ]
          },
          "metadata": {},
          "output_type": "display_data"
        },
        {
          "data": {
            "text/html": [
              "Find logs at: <code>.\\wandb\\run-20250516_140522-g9h2wq26\\logs</code>"
            ],
            "text/plain": [
              "<IPython.core.display.HTML object>"
            ]
          },
          "metadata": {},
          "output_type": "display_data"
        }
      ],
      "source": [
        "wandb.finish()"
      ]
    }
  ],
  "metadata": {
    "accelerator": "GPU",
    "colab": {
      "gpuType": "T4",
      "provenance": []
    },
    "kernelspec": {
      "display_name": ".venv",
      "language": "python",
      "name": "python3"
    },
    "language_info": {
      "codemirror_mode": {
        "name": "ipython",
        "version": 3
      },
      "file_extension": ".py",
      "mimetype": "text/x-python",
      "name": "python",
      "nbconvert_exporter": "python",
      "pygments_lexer": "ipython3",
      "version": "3.12.10"
    }
  },
  "nbformat": 4,
  "nbformat_minor": 0
}
