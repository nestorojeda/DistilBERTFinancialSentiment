{
  "cells": [
    {
      "cell_type": "code",
      "execution_count": null,
      "metadata": {},
      "outputs": [],
      "source": [
        "import sys\n",
        "import os\n",
        "\n",
        "# Add the parent directory to the path so Python can find the toolbox package\n",
        "module_path = os.path.abspath(os.path.join('..'))\n",
        "if module_path not in sys.path:\n",
        "    sys.path.append(module_path)\n",
        "    print(f\"Added {module_path} to sys.path\")"
      ]
    },
    {
      "cell_type": "code",
      "execution_count": 10,
      "metadata": {},
      "outputs": [],
      "source": [
        "model_name = \"finbert-european\""
      ]
    },
    {
      "cell_type": "code",
      "execution_count": 11,
      "metadata": {},
      "outputs": [
        {
          "data": {
            "text/plain": [
              "True"
            ]
          },
          "execution_count": 11,
          "metadata": {},
          "output_type": "execute_result"
        }
      ],
      "source": [
        "import wandb\n",
        "\n",
        "wandb.login()"
      ]
    },
    {
      "cell_type": "code",
      "execution_count": 12,
      "metadata": {},
      "outputs": [],
      "source": [
        "from datasets import load_dataset\n",
        "\n",
        "# Login using e.g. `huggingface-cli login` to access this dataset\n",
        "ds = load_dataset(\"nojedag/financial_phrasebank_multilingual\")"
      ]
    },
    {
      "cell_type": "code",
      "execution_count": null,
      "metadata": {},
      "outputs": [],
      "source": [
        "from toolbox.utils import transform_labels\n",
        "dataset = ds.map(transform_labels)"
      ]
    },
    {
      "cell_type": "code",
      "execution_count": 14,
      "metadata": {},
      "outputs": [],
      "source": [
        "# let's train a Distilbert model\n",
        "\n",
        "from transformers import AutoTokenizer\n",
        "tokenizer = AutoTokenizer.from_pretrained('ProsusAI/finbert')\n",
        "\n",
        "# let's tokenize the data for the model to be able to understand\n",
        "def tokenize_data(example):\n",
        "    return tokenizer(example['sentence'], padding='max_length')    "
      ]
    },
    {
      "cell_type": "code",
      "execution_count": 15,
      "metadata": {},
      "outputs": [],
      "source": [
        "dataset = dataset.map(tokenize_data, batched=True)"
      ]
    },
    {
      "cell_type": "code",
      "execution_count": 16,
      "metadata": {},
      "outputs": [],
      "source": [
        "from transformers import AutoModelForSequenceClassification\n",
        "\n",
        "# Loading a pretrain model while specifying the number of labels in our dataset for fine-tuning\n",
        "model = AutoModelForSequenceClassification.from_pretrained(\"ProsusAI/finbert\", num_labels=3)"
      ]
    },
    {
      "cell_type": "code",
      "execution_count": 17,
      "metadata": {},
      "outputs": [],
      "source": [
        "# the default batch size for training arguments\n",
        "batch_size = 8\n",
        "\n",
        "# set number of epochs\n",
        "number_of_epochs = 7\n",
        "# let set the logging steps\n",
        "logging_steps = len(dataset['train']) // batch_size # it should log each batch \n",
        "\n",
        "steps = (len(dataset['train']) / batch_size) * number_of_epochs\n",
        "warmup_steps = int(0.2 * steps)"
      ]
    },
    {
      "cell_type": "code",
      "execution_count": null,
      "metadata": {},
      "outputs": [],
      "source": [
        "from transformers import TrainingArguments\n",
        "from toolbox.utils import get_output_dir\n",
        "\n",
        "training_args = TrainingArguments(\n",
        "    num_train_epochs=number_of_epochs, \n",
        "    load_best_model_at_end=True,\n",
        "    eval_strategy='steps', \n",
        "    save_strategy='steps',\n",
        "    learning_rate=2e-5,\n",
        "    logging_steps=logging_steps,\n",
        "    warmup_steps= warmup_steps,\n",
        "    save_steps=1000,\n",
        "    eval_steps=500,\n",
        "    output_dir=get_output_dir(model_name),\n",
        "    report_to='wandb'\n",
        ")"
      ]
    },
    {
      "cell_type": "code",
      "execution_count": 19,
      "metadata": {},
      "outputs": [],
      "source": [
        "train_dataset = dataset['train'].shuffle(seed=10) \n",
        "eval_dataset = dataset['test'].shuffle(seed=10)"
      ]
    },
    {
      "cell_type": "code",
      "execution_count": 20,
      "metadata": {},
      "outputs": [
        {
          "name": "stdout",
          "output_type": "stream",
          "text": [
            "WARNING:tensorflow:From e:\\repo\\DistilBERTFinancialSentiment\\.venv\\Lib\\site-packages\\tf_keras\\src\\losses.py:2976: The name tf.losses.sparse_softmax_cross_entropy is deprecated. Please use tf.compat.v1.losses.sparse_softmax_cross_entropy instead.\n",
            "\n"
          ]
        }
      ],
      "source": [
        "from transformers import Trainer\n",
        "\n",
        "trainer = Trainer(\n",
        "    model=model, args=training_args, train_dataset=train_dataset, eval_dataset=eval_dataset\n",
        ")"
      ]
    },
    {
      "cell_type": "code",
      "execution_count": 21,
      "metadata": {},
      "outputs": [
        {
          "name": "stderr",
          "output_type": "stream",
          "text": [
            "wandb: WARNING The `run_name` is currently set to the same value as `TrainingArguments.output_dir`. If this was not intended, please specify a different run name by setting the `TrainingArguments.run_name` parameter.\n"
          ]
        },
        {
          "data": {
            "text/html": [
              "Tracking run with wandb version 0.19.8"
            ],
            "text/plain": [
              "<IPython.core.display.HTML object>"
            ]
          },
          "metadata": {},
          "output_type": "display_data"
        },
        {
          "data": {
            "text/html": [
              "Run data is saved locally in <code>e:\\repo\\DistilBERTFinancialSentiment\\notebooks\\wandb\\run-20250323_215755-j1t766ob</code>"
            ],
            "text/plain": [
              "<IPython.core.display.HTML object>"
            ]
          },
          "metadata": {},
          "output_type": "display_data"
        },
        {
          "data": {
            "text/html": [
              "Syncing run <strong><a href='https://wandb.ai/nojeda/huggingface/runs/j1t766ob' target=\"_blank\">.././models/finbert-european</a></strong> to <a href='https://wandb.ai/nojeda/huggingface' target=\"_blank\">Weights & Biases</a> (<a href='https://wandb.me/developer-guide' target=\"_blank\">docs</a>)<br>"
            ],
            "text/plain": [
              "<IPython.core.display.HTML object>"
            ]
          },
          "metadata": {},
          "output_type": "display_data"
        },
        {
          "data": {
            "text/html": [
              " View project at <a href='https://wandb.ai/nojeda/huggingface' target=\"_blank\">https://wandb.ai/nojeda/huggingface</a>"
            ],
            "text/plain": [
              "<IPython.core.display.HTML object>"
            ]
          },
          "metadata": {},
          "output_type": "display_data"
        },
        {
          "data": {
            "text/html": [
              " View run at <a href='https://wandb.ai/nojeda/huggingface/runs/j1t766ob' target=\"_blank\">https://wandb.ai/nojeda/huggingface/runs/j1t766ob</a>"
            ],
            "text/plain": [
              "<IPython.core.display.HTML object>"
            ]
          },
          "metadata": {},
          "output_type": "display_data"
        },
        {
          "data": {
            "text/html": [
              "\n",
              "    <div>\n",
              "      \n",
              "      <progress value='10738' max='10738' style='width:300px; height:20px; vertical-align: middle;'></progress>\n",
              "      [10738/10738 53:07, Epoch 7/7]\n",
              "    </div>\n",
              "    <table border=\"1\" class=\"dataframe\">\n",
              "  <thead>\n",
              " <tr style=\"text-align: left;\">\n",
              "      <th>Step</th>\n",
              "      <th>Training Loss</th>\n",
              "      <th>Validation Loss</th>\n",
              "    </tr>\n",
              "  </thead>\n",
              "  <tbody>\n",
              "    <tr>\n",
              "      <td>500</td>\n",
              "      <td>No log</td>\n",
              "      <td>0.869345</td>\n",
              "    </tr>\n",
              "    <tr>\n",
              "      <td>1000</td>\n",
              "      <td>No log</td>\n",
              "      <td>0.835812</td>\n",
              "    </tr>\n",
              "    <tr>\n",
              "      <td>1500</td>\n",
              "      <td>No log</td>\n",
              "      <td>0.849044</td>\n",
              "    </tr>\n",
              "    <tr>\n",
              "      <td>2000</td>\n",
              "      <td>0.942500</td>\n",
              "      <td>0.759386</td>\n",
              "    </tr>\n",
              "    <tr>\n",
              "      <td>2500</td>\n",
              "      <td>0.942500</td>\n",
              "      <td>0.729441</td>\n",
              "    </tr>\n",
              "    <tr>\n",
              "      <td>3000</td>\n",
              "      <td>0.942500</td>\n",
              "      <td>0.653877</td>\n",
              "    </tr>\n",
              "    <tr>\n",
              "      <td>3500</td>\n",
              "      <td>0.703400</td>\n",
              "      <td>0.724578</td>\n",
              "    </tr>\n",
              "    <tr>\n",
              "      <td>4000</td>\n",
              "      <td>0.703400</td>\n",
              "      <td>0.673453</td>\n",
              "    </tr>\n",
              "    <tr>\n",
              "      <td>4500</td>\n",
              "      <td>0.703400</td>\n",
              "      <td>0.709490</td>\n",
              "    </tr>\n",
              "    <tr>\n",
              "      <td>5000</td>\n",
              "      <td>0.496100</td>\n",
              "      <td>0.775336</td>\n",
              "    </tr>\n",
              "    <tr>\n",
              "      <td>5500</td>\n",
              "      <td>0.496100</td>\n",
              "      <td>0.811490</td>\n",
              "    </tr>\n",
              "    <tr>\n",
              "      <td>6000</td>\n",
              "      <td>0.496100</td>\n",
              "      <td>0.701781</td>\n",
              "    </tr>\n",
              "    <tr>\n",
              "      <td>6500</td>\n",
              "      <td>0.351000</td>\n",
              "      <td>0.935116</td>\n",
              "    </tr>\n",
              "    <tr>\n",
              "      <td>7000</td>\n",
              "      <td>0.351000</td>\n",
              "      <td>0.911635</td>\n",
              "    </tr>\n",
              "    <tr>\n",
              "      <td>7500</td>\n",
              "      <td>0.351000</td>\n",
              "      <td>0.840921</td>\n",
              "    </tr>\n",
              "    <tr>\n",
              "      <td>8000</td>\n",
              "      <td>0.271000</td>\n",
              "      <td>0.997515</td>\n",
              "    </tr>\n",
              "    <tr>\n",
              "      <td>8500</td>\n",
              "      <td>0.271000</td>\n",
              "      <td>0.992574</td>\n",
              "    </tr>\n",
              "    <tr>\n",
              "      <td>9000</td>\n",
              "      <td>0.271000</td>\n",
              "      <td>0.998321</td>\n",
              "    </tr>\n",
              "    <tr>\n",
              "      <td>9500</td>\n",
              "      <td>0.213000</td>\n",
              "      <td>1.093031</td>\n",
              "    </tr>\n",
              "    <tr>\n",
              "      <td>10000</td>\n",
              "      <td>0.213000</td>\n",
              "      <td>1.102306</td>\n",
              "    </tr>\n",
              "    <tr>\n",
              "      <td>10500</td>\n",
              "      <td>0.213000</td>\n",
              "      <td>1.052296</td>\n",
              "    </tr>\n",
              "  </tbody>\n",
              "</table><p>"
            ],
            "text/plain": [
              "<IPython.core.display.HTML object>"
            ]
          },
          "metadata": {},
          "output_type": "display_data"
        },
        {
          "data": {
            "text/plain": [
              "TrainOutput(global_step=10738, training_loss=0.44890753558215357, metrics={'train_runtime': 3188.4498, 'train_samples_per_second': 26.933, 'train_steps_per_second': 3.368, 'total_flos': 2.259512786080973e+16, 'train_loss': 0.44890753558215357, 'epoch': 7.0})"
            ]
          },
          "execution_count": 21,
          "metadata": {},
          "output_type": "execute_result"
        }
      ],
      "source": [
        "# Launch the learning process: training\n",
        "# Load model from checkpoint\n",
        "trainer.train()"
      ]
    },
    {
      "cell_type": "code",
      "execution_count": null,
      "metadata": {},
      "outputs": [],
      "source": [
        "from toolbox.utils import compute_metrics\n",
        "\n",
        "trainer_eval = Trainer(\n",
        "    model=model,\n",
        "    args=training_args,\n",
        "    train_dataset=train_dataset,\n",
        "    eval_dataset=eval_dataset,\n",
        "    compute_metrics=compute_metrics\n",
        ")"
      ]
    },
    {
      "cell_type": "code",
      "execution_count": 23,
      "metadata": {},
      "outputs": [
        {
          "data": {
            "text/html": [
              "\n",
              "    <div>\n",
              "      \n",
              "      <progress value='658' max='658' style='width:300px; height:20px; vertical-align: middle;'></progress>\n",
              "      [658/658 00:42]\n",
              "    </div>\n",
              "    "
            ],
            "text/plain": [
              "<IPython.core.display.HTML object>"
            ]
          },
          "metadata": {},
          "output_type": "display_data"
        },
        {
          "data": {
            "text/plain": [
              "{'eval_loss': 0.6538774967193604,\n",
              " 'eval_model_preparation_time': 0.002,\n",
              " 'eval_accuracy': {'accuracy': 0.7261316089767973},\n",
              " 'eval_f1score': {'f1': 0.7096333691540592},\n",
              " 'eval_runtime': 45.4933,\n",
              " 'eval_samples_per_second': 115.577,\n",
              " 'eval_steps_per_second': 14.464}"
            ]
          },
          "execution_count": 23,
          "metadata": {},
          "output_type": "execute_result"
        }
      ],
      "source": [
        "trainer_eval.evaluate()"
      ]
    },
    {
      "cell_type": "code",
      "execution_count": 24,
      "metadata": {},
      "outputs": [
        {
          "data": {
            "application/vnd.jupyter.widget-view+json": {
              "model_id": "bc887fa115d24116ae442d455645de6b",
              "version_major": 2,
              "version_minor": 0
            },
            "text/plain": [
              "model.safetensors:   0%|          | 0.00/438M [00:00<?, ?B/s]"
            ]
          },
          "metadata": {},
          "output_type": "display_data"
        },
        {
          "data": {
            "text/plain": [
              "CommitInfo(commit_url='https://huggingface.co/nojedag/finbert-european/commit/13570c87d637e66e393c2964a4e35e17db27b379', commit_message='Upload BertForSequenceClassification', commit_description='', oid='13570c87d637e66e393c2964a4e35e17db27b379', pr_url=None, repo_url=RepoUrl('https://huggingface.co/nojedag/finbert-european', endpoint='https://huggingface.co', repo_type='model', repo_id='nojedag/finbert-european'), pr_revision=None, pr_num=None)"
            ]
          },
          "execution_count": 24,
          "metadata": {},
          "output_type": "execute_result"
        }
      ],
      "source": [
        "model.save_pretrained(model_name)\n",
        "model.push_to_hub(f'nojedag/{model_name}')"
      ]
    },
    {
      "cell_type": "code",
      "execution_count": 25,
      "metadata": {},
      "outputs": [
        {
          "data": {
            "application/vnd.jupyter.widget-view+json": {
              "model_id": "edc2cef84583473fac0d2a8f2b2c7955",
              "version_major": 2,
              "version_minor": 0
            },
            "text/plain": [
              "training_args.bin:   0%|          | 0.00/5.37k [00:00<?, ?B/s]"
            ]
          },
          "metadata": {},
          "output_type": "display_data"
        },
        {
          "data": {
            "text/plain": [
              "CommitInfo(commit_url='https://huggingface.co/nojedag/finbert-european/commit/fe1852f45025ae49c202664f693b008febe29017', commit_message='End of training', commit_description='', oid='fe1852f45025ae49c202664f693b008febe29017', pr_url=None, repo_url=RepoUrl('https://huggingface.co/nojedag/finbert-european', endpoint='https://huggingface.co', repo_type='model', repo_id='nojedag/finbert-european'), pr_revision=None, pr_num=None)"
            ]
          },
          "execution_count": 25,
          "metadata": {},
          "output_type": "execute_result"
        }
      ],
      "source": [
        "trainer.push_to_hub()\n",
        "trainer_eval.push_to_hub()"
      ]
    },
    {
      "cell_type": "code",
      "execution_count": 26,
      "metadata": {},
      "outputs": [
        {
          "data": {
            "text/html": [],
            "text/plain": [
              "<IPython.core.display.HTML object>"
            ]
          },
          "metadata": {},
          "output_type": "display_data"
        },
        {
          "data": {
            "text/html": [
              "<br>    <style><br>        .wandb-row {<br>            display: flex;<br>            flex-direction: row;<br>            flex-wrap: wrap;<br>            justify-content: flex-start;<br>            width: 100%;<br>        }<br>        .wandb-col {<br>            display: flex;<br>            flex-direction: column;<br>            flex-basis: 100%;<br>            flex: 1;<br>            padding: 10px;<br>        }<br>    </style><br><div class=\"wandb-row\"><div class=\"wandb-col\"><h3>Run history:</h3><br/><table class=\"wandb\"><tr><td>eval/loss</td><td>▄▄▄▃▂▁▂▁▂▃▃▂▅▅▄▆▆▆██▇▁</td></tr><tr><td>eval/model_preparation_time</td><td>▁</td></tr><tr><td>eval/runtime</td><td>▁▁▁▁▁▁▁▁▁▁▁▁▁▁▁▁▁▁▁▁▁█</td></tr><tr><td>eval/samples_per_second</td><td>██▇██████████████████▁</td></tr><tr><td>eval/steps_per_second</td><td>██▇██████████████████▁</td></tr><tr><td>train/epoch</td><td>▁▁▂▂▂▂▃▃▃▃▄▄▄▄▅▅▅▅▆▆▆▆▇▇▇▇███</td></tr><tr><td>train/global_step</td><td>▁▂▂▂▂▃▃▃▃▄▄▄▄▅▅▅▅▆▆▆▆▇▇▇▇████▁</td></tr><tr><td>train/grad_norm</td><td>▅██▃▆▁▂</td></tr><tr><td>train/learning_rate</td><td>▇█▇▅▄▂▁</td></tr><tr><td>train/loss</td><td>█▆▄▃▂▁▁</td></tr></table><br/></div><div class=\"wandb-col\"><h3>Run summary:</h3><br/><table class=\"wandb\"><tr><td>eval/loss</td><td>0.65388</td></tr><tr><td>eval/model_preparation_time</td><td>0.002</td></tr><tr><td>eval/runtime</td><td>45.4933</td></tr><tr><td>eval/samples_per_second</td><td>115.577</td></tr><tr><td>eval/steps_per_second</td><td>14.464</td></tr><tr><td>total_flos</td><td>2.259512786080973e+16</td></tr><tr><td>train/epoch</td><td>7</td></tr><tr><td>train/global_step</td><td>0</td></tr><tr><td>train/grad_norm</td><td>5.1894</td></tr><tr><td>train/learning_rate</td><td>0.0</td></tr><tr><td>train/loss</td><td>0.1671</td></tr><tr><td>train_loss</td><td>0.44891</td></tr><tr><td>train_runtime</td><td>3188.4498</td></tr><tr><td>train_samples_per_second</td><td>26.933</td></tr><tr><td>train_steps_per_second</td><td>3.368</td></tr></table><br/></div></div>"
            ],
            "text/plain": [
              "<IPython.core.display.HTML object>"
            ]
          },
          "metadata": {},
          "output_type": "display_data"
        },
        {
          "data": {
            "text/html": [
              " View run <strong style=\"color:#cdcd00\">.././models/finbert-european</strong> at: <a href='https://wandb.ai/nojeda/huggingface/runs/j1t766ob' target=\"_blank\">https://wandb.ai/nojeda/huggingface/runs/j1t766ob</a><br> View project at: <a href='https://wandb.ai/nojeda/huggingface' target=\"_blank\">https://wandb.ai/nojeda/huggingface</a><br>Synced 5 W&B file(s), 0 media file(s), 0 artifact file(s) and 0 other file(s)"
            ],
            "text/plain": [
              "<IPython.core.display.HTML object>"
            ]
          },
          "metadata": {},
          "output_type": "display_data"
        },
        {
          "data": {
            "text/html": [
              "Find logs at: <code>.\\wandb\\run-20250323_215755-j1t766ob\\logs</code>"
            ],
            "text/plain": [
              "<IPython.core.display.HTML object>"
            ]
          },
          "metadata": {},
          "output_type": "display_data"
        }
      ],
      "source": [
        "wandb.finish()"
      ]
    }
  ],
  "metadata": {
    "accelerator": "GPU",
    "colab": {
      "gpuType": "T4",
      "provenance": []
    },
    "kernelspec": {
      "display_name": ".venv",
      "language": "python",
      "name": "python3"
    },
    "language_info": {
      "codemirror_mode": {
        "name": "ipython",
        "version": 3
      },
      "file_extension": ".py",
      "mimetype": "text/x-python",
      "name": "python",
      "nbconvert_exporter": "python",
      "pygments_lexer": "ipython3",
      "version": "3.11.9"
    }
  },
  "nbformat": 4,
  "nbformat_minor": 0
}
