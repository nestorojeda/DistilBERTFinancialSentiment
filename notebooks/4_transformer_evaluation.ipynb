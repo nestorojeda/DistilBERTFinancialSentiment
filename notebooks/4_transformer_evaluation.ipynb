{
 "cells": [
  {
   "cell_type": "code",
   "execution_count": 17,
   "metadata": {},
   "outputs": [
    {
     "name": "stdout",
     "output_type": "stream",
     "text": [
      "Using device: cuda\n",
      "CUDA Device: NVIDIA GeForce RTX 4070\n",
      "CUDA Version: 12.8\n"
     ]
    }
   ],
   "source": [
    "# Check for CUDA availability and set the device\n",
    "import torch\n",
    "import os\n",
    "\n",
    "# Check if CUDA is available\n",
    "is_cuda_available = torch.cuda.is_available()\n",
    "device = torch.device(\"cuda\" if is_cuda_available else \"cpu\")\n",
    "\n",
    "# Print device information\n",
    "print(f\"Using device: {device}\")\n",
    "if is_cuda_available:\n",
    "    print(f\"CUDA Device: {torch.cuda.get_device_name(0)}\")\n",
    "    print(f\"CUDA Version: {torch.version.cuda}\")\n",
    "    # Set CUDA device visibility if needed\n",
    "    # os.environ[\"CUDA_VISIBLE_DEVICES\"] = \"0\""
   ]
  },
  {
   "cell_type": "code",
   "execution_count": 18,
   "metadata": {},
   "outputs": [
    {
     "data": {
      "application/vnd.jupyter.widget-view+json": {
       "model_id": "f144b0c379ea455cbc1190a71a715d76",
       "version_major": 2,
       "version_minor": 0
      },
      "text/plain": [
       "model.safetensors:   0%|          | 0.00/1.11G [00:00<?, ?B/s]"
      ]
     },
     "metadata": {},
     "output_type": "display_data"
    }
   ],
   "source": [
    "# Load model directly\n",
    "from transformers import AutoTokenizer, AutoModelForSequenceClassification\n",
    "\n",
    "tokenizer = AutoTokenizer.from_pretrained(\"nojedag/xlm-roberta-finetuned-financial-news-sentiment-analysis-european\")\n",
    "model = AutoModelForSequenceClassification.from_pretrained(\"nojedag/xlm-roberta-finetuned-financial-news-sentiment-analysis-european\")"
   ]
  },
  {
   "cell_type": "code",
   "execution_count": 19,
   "metadata": {},
   "outputs": [
    {
     "name": "stdout",
     "output_type": "stream",
     "text": [
      "Model moved to cuda\n"
     ]
    }
   ],
   "source": [
    "# Define the transform_labels function to handle batched input\n",
    "def transform_labels(examples):\n",
    "\tlabel_map = {\"negative\": 0, \"neutral\": 1, \"positive\": 2}\n",
    "\tif isinstance(examples['sentiment'], list):\n",
    "\t\texamples['labels'] = [label_map[s.lower()] for s in examples['sentiment']]\n",
    "\telse:\n",
    "\t\texamples['labels'] = label_map[examples['sentiment'].lower()]\n",
    "\treturn examples\n",
    "\n",
    "# Load model directly\n",
    "from transformers import AutoTokenizer, AutoModelForSequenceClassification\n",
    "\n",
    "tokenizer = AutoTokenizer.from_pretrained(\"nojedag/xlm-roberta-finetuned-financial-news-sentiment-analysis-european\")\n",
    "model = AutoModelForSequenceClassification.from_pretrained(\"nojedag/xlm-roberta-finetuned-financial-news-sentiment-analysis-european\")\n",
    "\n",
    "# Move model to the appropriate device (GPU if available)\n",
    "model = model.to(device)\n",
    "print(f\"Model moved to {device}\")"
   ]
  },
  {
   "cell_type": "code",
   "execution_count": 20,
   "metadata": {},
   "outputs": [],
   "source": [
    "from datasets import load_dataset\n",
    "synthetic_ds = load_dataset(\"nojedag/synthetic_financial_sentiment\")\n",
    "synthetic_ds = synthetic_ds.map(transform_labels, batched=True)"
   ]
  },
  {
   "cell_type": "code",
   "execution_count": 21,
   "metadata": {},
   "outputs": [
    {
     "data": {
      "application/vnd.jupyter.widget-view+json": {
       "model_id": "f07f98467bc2418ab296ca75ccc6d9d5",
       "version_major": 2,
       "version_minor": 0
      },
      "text/plain": [
       "Map:   0%|          | 0/200 [00:00<?, ? examples/s]"
      ]
     },
     "metadata": {},
     "output_type": "display_data"
    },
    {
     "data": {
      "application/vnd.jupyter.widget-view+json": {
       "model_id": "9f8d70bd67d44aa0b584117eb4c08b19",
       "version_major": 2,
       "version_minor": 0
      },
      "text/plain": [
       "Map:   0%|          | 0/87 [00:00<?, ? examples/s]"
      ]
     },
     "metadata": {},
     "output_type": "display_data"
    },
    {
     "data": {
      "text/html": [],
      "text/plain": [
       "<IPython.core.display.HTML object>"
      ]
     },
     "metadata": {},
     "output_type": "display_data"
    },
    {
     "data": {
      "image/png": "[encoded data removed]",
      "text/plain": [
       "<Figure size 600x600 with 1 Axes>"
      ]
     },
     "metadata": {},
     "output_type": "display_data"
    }
   ],
   "source": [
    "import numpy as np\n",
    "from transformers import Trainer, TrainingArguments\n",
    "from sklearn.metrics import confusion_matrix, ConfusionMatrixDisplay\n",
    "import matplotlib.pyplot as plt\n",
    "\n",
    "def compute_metrics(eval_pred):\n",
    "    logits, labels = eval_pred\n",
    "    preds = np.argmax(logits, axis=-1)\n",
    "    return {\n",
    "        \"accuracy\": (preds == labels).mean(),\n",
    "    }\n",
    "\n",
    "# 4. Initialize Trainer\n",
    "trainer = Trainer(\n",
    "    model=model,\n",
    "    args=TrainingArguments(\n",
    "        per_device_eval_batch_size=32,\n",
    "        output_dir=\"./results\",\n",
    "        do_eval=True,\n",
    "        no_cuda=not is_cuda_available,  # Use CUDA if available\n",
    "    ),\n",
    "    compute_metrics=compute_metrics,\n",
    ")\n",
    "\n",
    "# Tokenize the dataset\n",
    "def tokenize_function(examples):\n",
    "    return tokenizer(examples[\"sentence\"], padding=\"max_length\", truncation=True)\n",
    "\n",
    "# Apply tokenization to the dataset\n",
    "tokenized_synthetic_ds = synthetic_ds.map(tokenize_function, batched=True)\n",
    "\n",
    "# 5. Run evaluation to get raw preds & labels\n",
    "eval_output = trainer.predict(tokenized_synthetic_ds[\"train\"])\n",
    "logits = eval_output.predictions  # shape (N_examples, N_labels)\n",
    "labels = eval_output.label_ids     # shape (N_examples,)\n",
    "\n",
    "# 6. Derive class predictions\n",
    "preds = np.argmax(logits, axis=1)\n",
    "\n",
    "# 7. Compute confusion matrix\n",
    "cm = confusion_matrix(labels, preds)\n",
    "# If you want normalized counts, pass `normalize='true'` or `normalize='pred'` etc.\n",
    "\n",
    "# 8. Plot it\n",
    "display_labels = [\"negative\", \"neutral\", \"positive\"]  # Based on label_map in transform_labels\n",
    "disp = ConfusionMatrixDisplay(\n",
    "    confusion_matrix=cm,\n",
    "    display_labels=display_labels\n",
    ")\n",
    "fig, ax = plt.subplots(figsize=(6,6))\n",
    "disp.plot(ax=ax, cmap=\"Blues\", colorbar=False)\n",
    "plt.title(\"Confusion Matrix — SST-2 Validation\")\n",
    "plt.show()"
   ]
  }
 ],
 "metadata": {
  "kernelspec": {
   "display_name": ".venv",
   "language": "python",
   "name": "python3"
  },
  "language_info": {
   "codemirror_mode": {
    "name": "ipython",
    "version": 3
   },
   "file_extension": ".py",
   "mimetype": "text/x-python",
   "name": "python",
   "nbconvert_exporter": "python",
   "pygments_lexer": "ipython3",
   "version": "3.12.10"
  }
 },
 "nbformat": 4,
 "nbformat_minor": 2
}
