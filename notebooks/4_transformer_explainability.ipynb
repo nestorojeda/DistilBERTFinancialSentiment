{
 "cells": [
  {
   "cell_type": "code",
   "execution_count": 1,
   "metadata": {},
   "outputs": [],
   "source": [
    "# Load model directly\n",
    "from transformers import AutoTokenizer, AutoModelForSequenceClassification\n",
    "\n",
    "tokenizer = AutoTokenizer.from_pretrained(\"nojedag/xlm-roberta-finetuned-financial-news-sentiment-analysis-european\")\n",
    "model = AutoModelForSequenceClassification.from_pretrained(\"nojedag/xlm-roberta-finetuned-financial-news-sentiment-analysis-european\")"
   ]
  },
  {
   "cell_type": "code",
   "execution_count": null,
   "metadata": {},
   "outputs": [
    {
     "data": {
      "application/vnd.jupyter.widget-view+json": {
       "model_id": "c3c241f0f71040ca9939c2ce9671edbd",
       "version_major": 2,
       "version_minor": 0
      },
      "text/plain": [
       "  0%|          | 0/498 [00:00<?, ?it/s]"
      ]
     },
     "metadata": {},
     "output_type": "display_data"
    }
   ],
   "source": [
    "import shap\n",
    "import torch\n",
    "\n",
    "# Define a prediction function\n",
    "def f(x):\n",
    "    # Tokenize input texts with attention mask and return as PyTorch tensor\n",
    "    encoded = [tokenizer.encode_plus(\n",
    "        v,\n",
    "        add_special_tokens=True,\n",
    "        max_length=512,\n",
    "        padding='max_length',\n",
    "        truncation=True,\n",
    "        return_attention_mask=True,\n",
    "        return_tensors='pt'\n",
    "    ) for v in x]\n",
    "    \n",
    "    # Stack all tensors into batches\n",
    "    input_ids = torch.cat([e['input_ids'] for e in encoded])\n",
    "    attention_mask = torch.cat([e['attention_mask'] for e in encoded])\n",
    "    \n",
    "    # Get model outputs with proper attention masking\n",
    "    outputs = model(input_ids, attention_mask=attention_mask)[0]\n",
    "    \n",
    "    # Convert to probabilities\n",
    "    probs = torch.nn.functional.softmax(outputs, dim=1)\n",
    "    return probs\n",
    "\n",
    "# Create an explainer object with a larger masker output\n",
    "explainer = shap.Explainer(f, tokenizer, output_names=['Negative', 'Neutral', 'Positive'])\n",
    "\n",
    "# Create more diverse example sentences for better explanation\n",
    "example_texts = [\n",
    "    \"Les marchés financiers montrent des signes de reprise robuste, c'est très encourageant pour les investisseurs.\",\n",
    "    \"Die wirtschaftlichen Aussichten sind düster, mit steigender Inflation und sinkenden Aktienkursen.\",\n",
    "    \"Los resultados trimestrales de la empresa cumplen con las expectativas, sin grandes sorpresas.\"\n",
    "]\n",
    "\n",
    "# Generate and visualize SHAP values with more detailed plotting\n",
    "shap_values = explainer(example_texts)\n",
    "shap.plots.text(shap_values, display=True)  # Set display=False for better notebook integration"
   ]
  }
 ],
 "metadata": {
  "kernelspec": {
   "display_name": ".venv",
   "language": "python",
   "name": "python3"
  },
  "language_info": {
   "codemirror_mode": {
    "name": "ipython",
    "version": 3
   },
   "file_extension": ".py",
   "mimetype": "text/x-python",
   "name": "python",
   "nbconvert_exporter": "python",
   "pygments_lexer": "ipython3",
   "version": "3.12.10"
  }
 },
 "nbformat": 4,
 "nbformat_minor": 2
}
