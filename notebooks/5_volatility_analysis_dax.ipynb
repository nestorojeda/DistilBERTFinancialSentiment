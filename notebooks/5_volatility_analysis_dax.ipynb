{
 "cells": [
  {
   "cell_type": "code",
   "execution_count": 12,
   "id": "e8ab39d6",
   "metadata": {},
   "outputs": [
    {
     "name": "stdout",
     "output_type": "stream",
     "text": [
      "Gradients enabled: True\n"
     ]
    }
   ],
   "source": [
    "import sys\n",
    "import os\n",
    "\n",
    "# Add the path to the volatility_analysis directory\n",
    "project_root = os.path.abspath(os.path.join(os.getcwd(), '..'))\n",
    "sys.path.append(project_root)\n",
    "sys.path.append(os.path.join(project_root, 'code', 'volatility_analysis'))\n",
    "\n",
    "# Import the volatility analysis library directly\n",
    "from volatility_pipeline import *\n",
    "\n",
    "import torch\n",
    "torch.set_grad_enabled(True)\n",
    "print(f\"Gradients enabled: {torch.is_grad_enabled()}\")"
   ]
  },
  {
   "cell_type": "code",
   "execution_count": 13,
   "id": "745d82f7",
   "metadata": {},
   "outputs": [],
   "source": [
    "FETCH_DATA = False # Set to True to fetch new news data\n",
    "FROM, TO = \"2023-01-01\", \"2025-12-31\"\n",
    "CUT = \"2024-10-01\"  # Date to split train/test data\n",
    "TOPIC = \"BUSINESS\"\n",
    "MARKET_NAME = \"DAX 40\"\n",
    "WINDOW = 7\n",
    "EPOCHS = 200\n",
    "LSTM_TYPE = \"simple\"  # Options: \"improved\", \"simple\"\n",
    "USE_TECHNICAL_INDICATORS = False"
   ]
  },
  {
   "cell_type": "code",
   "execution_count": 14,
   "id": "f122a234",
   "metadata": {},
   "outputs": [],
   "source": [
    "keywords = [\n",
    "    \"dax\",  # German stock index (equivalent to IBEX 35)\n",
    "    \"inflation\",  # Inflation\n",
    "    \"zinssatz\",  # Interest rates\n",
    "    \"zölle\",  # Tariffs\n",
    "    \"wirtschaftswachstum\",  # Economic growth\n",
    "    \"rezession\",  # Recession\n",
    "    \"arbeitslosigkeit\",  # Unemployment\n",
    "    \"subventionen\",  # Subsidies\n",
    "    \"investition\",  # Investment\n",
    "    \"expansion\"  # Expansion\n",
    "]\n",
    "\n",
    "KEYWORDS = \" OR \".join([f'\"{keyword}\"' for keyword in keywords])"
   ]
  },
  {
   "cell_type": "code",
   "execution_count": 15,
   "id": "627af8e9",
   "metadata": {},
   "outputs": [],
   "source": [
    "import pandas as pd, time, random\n",
    "from pygooglenews import GoogleNews\n",
    "# Fetch news data function\n",
    "def fetch_dax_news_data():\n",
    "    gn = GoogleNews(lang=\"de\", country=\"DE\")\n",
    "\n",
    "    all_frames = []\n",
    "\n",
    "    start_dt = pd.to_datetime(FROM)\n",
    "    end_dt   = pd.to_datetime(TO)\n",
    "\n",
    "    while start_dt <= end_dt:\n",
    "        stop_dt = min(start_dt + pd.Timedelta(days=WINDOW-1), end_dt)\n",
    "\n",
    "        feed    = gn.search(KEYWORDS,\n",
    "                            from_=start_dt.strftime(\"%Y-%m-%d\"),\n",
    "                            to_  =stop_dt.strftime(\"%Y-%m-%d\"))\n",
    "\n",
    "        df      = pd.DataFrame(\n",
    "                    {\"date\":  [pd.to_datetime(e.published).tz_localize(None)\n",
    "                                for e in feed[\"entries\"]],\n",
    "                    \"title\": [e.title for e in feed[\"entries\"]]}\n",
    "                )\n",
    "        all_frames.append(df)\n",
    "\n",
    "        # polite pause to avoid 429 errors\n",
    "        time.sleep(random.uniform(1.0, 2.5))\n",
    "        start_dt = stop_dt + pd.Timedelta(days=1)\n",
    "\n",
    "    news_df = (pd.concat(all_frames, ignore_index=True)\n",
    "                .drop_duplicates())          # remove overlaps\n",
    "    \n",
    "    # Remove the \"- name of the news source\" suffix from titles\n",
    "    news_df['title'] = news_df['title'].str.replace(r' - .+$', '', regex=True)\n",
    "    \n",
    "\n",
    "    # Save to CSV\n",
    "    os.makedirs(\"../news\", exist_ok=True)\n",
    "    news_df.to_csv(f\"../news/news_data_{FROM}_{TO}_DAX.csv\", index=False)\n",
    "    \n",
    "    return news_df"
   ]
  },
  {
   "cell_type": "code",
   "execution_count": 16,
   "id": "17e23715",
   "metadata": {},
   "outputs": [
    {
     "name": "stdout",
     "output_type": "stream",
     "text": [
      "Loaded 11711 news articles\n"
     ]
    }
   ],
   "source": [
    "# Fetch or load news data\n",
    "if FETCH_DATA:\n",
    "    news_df = fetch_dax_news_data()\n",
    "    print(f\"Fetched {len(news_df)} news articles\")\n",
    "else:\n",
    "    # Read the CSV file\n",
    "    news_df = pd.read_csv(f\"../news/news_data_{FROM}_{TO}_DAX.csv\", parse_dates=['date'])\n",
    "    print(f\"Loaded {len(news_df)} news articles\")"
   ]
  },
  {
   "cell_type": "code",
   "execution_count": 17,
   "id": "f14d45c3",
   "metadata": {},
   "outputs": [
    {
     "name": "stdout",
     "output_type": "stream",
     "text": [
      "Loaded 589 days of DAX 40 market data\n"
     ]
    },
    {
     "data": {
      "application/vnd.microsoft.datawrangler.viewer.v0+json": {
       "columns": [
        {
         "name": "index",
         "rawType": "int64",
         "type": "integer"
        },
        {
         "name": "Date",
         "rawType": "datetime64[ns, Europe/Berlin]",
         "type": "unknown"
        },
        {
         "name": "Open",
         "rawType": "float64",
         "type": "float"
        },
        {
         "name": "High",
         "rawType": "float64",
         "type": "float"
        },
        {
         "name": "Low",
         "rawType": "float64",
         "type": "float"
        },
        {
         "name": "Close",
         "rawType": "float64",
         "type": "float"
        },
        {
         "name": "Volume",
         "rawType": "int64",
         "type": "integer"
        },
        {
         "name": "Dividends",
         "rawType": "float64",
         "type": "float"
        },
        {
         "name": "Stock Splits",
         "rawType": "float64",
         "type": "float"
        },
        {
         "name": "Returns",
         "rawType": "float64",
         "type": "float"
        },
        {
         "name": "Volatility",
         "rawType": "float64",
         "type": "float"
        }
       ],
       "ref": "0023956f-829f-45ff-947e-635e1d8bbfd1",
       "rows": [
        [
         "0",
         "2023-01-31 00:00:00+01:00",
         "15081.169921875",
         "15136.2197265625",
         "14993.58984375",
         "15128.26953125",
         "57047200",
         "0.0",
         "0.0",
         "0.0001447468950113162",
         "0.12346390956899168"
        ],
        [
         "1",
         "2023-02-01 00:00:00+01:00",
         "15125.1201171875",
         "15222.33984375",
         "15107.830078125",
         "15180.740234375",
         "57095200",
         "0.0",
         "0.0",
         "0.0034683876445096296",
         "0.12237653816335514"
        ],
        [
         "2",
         "2023-02-02 00:00:00+01:00",
         "15275.0",
         "15520.9697265625",
         "15264.3095703125",
         "15509.1904296875",
         "122979300",
         "0.0",
         "0.0",
         "0.02163598021187152",
         "0.12207137159991704"
        ],
        [
         "3",
         "2023-02-03 00:00:00+01:00",
         "15408.400390625",
         "15476.669921875",
         "15347.8603515625",
         "15476.4296875",
         "76253700",
         "0.0",
         "0.0",
         "-0.0021123437961526603",
         "0.12100572156274583"
        ],
        [
         "4",
         "2023-02-06 00:00:00+01:00",
         "15367.0400390625",
         "15406.9296875",
         "15275.5703125",
         "15345.91015625",
         "54430400",
         "0.0",
         "0.0",
         "-0.008433439358136896",
         "0.12324195325691266"
        ]
       ],
       "shape": {
        "columns": 10,
        "rows": 5
       }
      },
      "text/html": [
       "<div>\n",
       "<style scoped>\n",
       "    .dataframe tbody tr th:only-of-type {\n",
       "        vertical-align: middle;\n",
       "    }\n",
       "\n",
       "    .dataframe tbody tr th {\n",
       "        vertical-align: top;\n",
       "    }\n",
       "\n",
       "    .dataframe thead th {\n",
       "        text-align: right;\n",
       "    }\n",
       "</style>\n",
       "<table border=\"1\" class=\"dataframe\">\n",
       "  <thead>\n",
       "    <tr style=\"text-align: right;\">\n",
       "      <th></th>\n",
       "      <th>Date</th>\n",
       "      <th>Open</th>\n",
       "      <th>High</th>\n",
       "      <th>Low</th>\n",
       "      <th>Close</th>\n",
       "      <th>Volume</th>\n",
       "      <th>Dividends</th>\n",
       "      <th>Stock Splits</th>\n",
       "      <th>Returns</th>\n",
       "      <th>Volatility</th>\n",
       "    </tr>\n",
       "  </thead>\n",
       "  <tbody>\n",
       "    <tr>\n",
       "      <th>0</th>\n",
       "      <td>2023-01-31 00:00:00+01:00</td>\n",
       "      <td>15081.169922</td>\n",
       "      <td>15136.219727</td>\n",
       "      <td>14993.589844</td>\n",
       "      <td>15128.269531</td>\n",
       "      <td>57047200</td>\n",
       "      <td>0.0</td>\n",
       "      <td>0.0</td>\n",
       "      <td>0.000145</td>\n",
       "      <td>0.123464</td>\n",
       "    </tr>\n",
       "    <tr>\n",
       "      <th>1</th>\n",
       "      <td>2023-02-01 00:00:00+01:00</td>\n",
       "      <td>15125.120117</td>\n",
       "      <td>15222.339844</td>\n",
       "      <td>15107.830078</td>\n",
       "      <td>15180.740234</td>\n",
       "      <td>57095200</td>\n",
       "      <td>0.0</td>\n",
       "      <td>0.0</td>\n",
       "      <td>0.003468</td>\n",
       "      <td>0.122377</td>\n",
       "    </tr>\n",
       "    <tr>\n",
       "      <th>2</th>\n",
       "      <td>2023-02-02 00:00:00+01:00</td>\n",
       "      <td>15275.000000</td>\n",
       "      <td>15520.969727</td>\n",
       "      <td>15264.309570</td>\n",
       "      <td>15509.190430</td>\n",
       "      <td>122979300</td>\n",
       "      <td>0.0</td>\n",
       "      <td>0.0</td>\n",
       "      <td>0.021636</td>\n",
       "      <td>0.122071</td>\n",
       "    </tr>\n",
       "    <tr>\n",
       "      <th>3</th>\n",
       "      <td>2023-02-03 00:00:00+01:00</td>\n",
       "      <td>15408.400391</td>\n",
       "      <td>15476.669922</td>\n",
       "      <td>15347.860352</td>\n",
       "      <td>15476.429688</td>\n",
       "      <td>76253700</td>\n",
       "      <td>0.0</td>\n",
       "      <td>0.0</td>\n",
       "      <td>-0.002112</td>\n",
       "      <td>0.121006</td>\n",
       "    </tr>\n",
       "    <tr>\n",
       "      <th>4</th>\n",
       "      <td>2023-02-06 00:00:00+01:00</td>\n",
       "      <td>15367.040039</td>\n",
       "      <td>15406.929688</td>\n",
       "      <td>15275.570312</td>\n",
       "      <td>15345.910156</td>\n",
       "      <td>54430400</td>\n",
       "      <td>0.0</td>\n",
       "      <td>0.0</td>\n",
       "      <td>-0.008433</td>\n",
       "      <td>0.123242</td>\n",
       "    </tr>\n",
       "  </tbody>\n",
       "</table>\n",
       "</div>"
      ],
      "text/plain": [
       "                       Date          Open          High           Low  \\\n",
       "0 2023-01-31 00:00:00+01:00  15081.169922  15136.219727  14993.589844   \n",
       "1 2023-02-01 00:00:00+01:00  15125.120117  15222.339844  15107.830078   \n",
       "2 2023-02-02 00:00:00+01:00  15275.000000  15520.969727  15264.309570   \n",
       "3 2023-02-03 00:00:00+01:00  15408.400391  15476.669922  15347.860352   \n",
       "4 2023-02-06 00:00:00+01:00  15367.040039  15406.929688  15275.570312   \n",
       "\n",
       "          Close     Volume  Dividends  Stock Splits   Returns  Volatility  \n",
       "0  15128.269531   57047200        0.0           0.0  0.000145    0.123464  \n",
       "1  15180.740234   57095200        0.0           0.0  0.003468    0.122377  \n",
       "2  15509.190430  122979300        0.0           0.0  0.021636    0.122071  \n",
       "3  15476.429688   76253700        0.0           0.0 -0.002112    0.121006  \n",
       "4  15345.910156   54430400        0.0           0.0 -0.008433    0.123242  "
      ]
     },
     "execution_count": 17,
     "metadata": {},
     "output_type": "execute_result"
    }
   ],
   "source": [
    "import yfinance\n",
    "\n",
    "# Fetch DAX 40 market data using yfinance\n",
    "dax40 = yfinance.Ticker(\"^GDAXI\")\n",
    "dax40_data = dax40.history(start=FROM, end=TO, interval=\"1d\", auto_adjust=True)\n",
    "dax40_data = dax40_data.reset_index()  # Convert index to column\n",
    "dax40_data[\"Returns\"] = dax40_data[\"Close\"].pct_change()\n",
    "dax40_data[\"Volatility\"] = dax40_data[\"Returns\"].rolling(window=21).std() * np.sqrt(252)\n",
    "dax40_data = dax40_data.dropna().reset_index(drop=True)\n",
    "\n",
    "print(f\"Loaded {len(dax40_data)} days of DAX 40 market data\")\n",
    "dax40_data.head()"
   ]
  },
  {
   "cell_type": "code",
   "execution_count": null,
   "id": "254088d8",
   "metadata": {},
   "outputs": [
    {
     "name": "stdout",
     "output_type": "stream",
     "text": [
      "Splitting data at 2024-10-01...\n",
      "Sentiment model loaded on device: cuda\n",
      "GPU: NVIDIA GeForce RTX 4070\n",
      "Calculating enhanced sentiment scores...\n"
     ]
    }
   ],
   "source": [
    "# Run the volatility analysis pipeline\n",
    "results = run_volatility_pipeline(\n",
    "    news_df=news_df,\n",
    "    stock_data=dax40_data,\n",
    "    market_name=MARKET_NAME,\n",
    "    cut_date=CUT,\n",
    "    output_dir=\"../news\",\n",
    "    seq_len=10,\n",
    "    epochs=EPOCHS,\n",
    "    learning_rate=0.001,\n",
    "    verbose=True,\n",
    "    use_technical_indicators=USE_TECHNICAL_INDICATORS,\n",
    "    lstm_type=LSTM_TYPE,\n",
    "    patience=100\n",
    ")"
   ]
  },
  {
   "cell_type": "code",
   "execution_count": null,
   "id": "c50a46d7",
   "metadata": {},
   "outputs": [],
   "source": [
    "results_no_sentiment = run_volatility_pipeline(\n",
    "    news_df=news_df,\n",
    "    stock_data=dax40_data,\n",
    "    market_name=MARKET_NAME + \" (No Sentiment)\",\n",
    "    cut_date=CUT,\n",
    "    output_dir=\"../news\",\n",
    "    seq_len=10,\n",
    "    epochs=EPOCHS,\n",
    "    learning_rate=0.001,\n",
    "    use_sentiment=False,\n",
    "    verbose=True,\n",
    "    use_technical_indicators=USE_TECHNICAL_INDICATORS,\n",
    "    lstm_type=LSTM_TYPE,\n",
    ")"
   ]
  },
  {
   "cell_type": "code",
   "execution_count": null,
   "id": "a7a23c74",
   "metadata": {},
   "outputs": [],
   "source": [
    "import matplotlib.pyplot as plt\n",
    "# Plot the MAE over time for both models\n",
    "plt.figure(figsize=(14, 6))\n",
    "plt.plot(results['test_dates'], np.abs(results['y_actual'] - results['y_pred']), label='With Sentiment', color='blue', linewidth=2)\n",
    "plt.plot(results_no_sentiment['test_dates'], np.abs(results_no_sentiment['y_actual'] - results_no_sentiment['y_pred']), label='Without Sentiment', color='orange', linewidth=2)\n",
    "plt.title('LSTM Model Absolute Error Over Time (DAX 40)', fontsize=16, fontweight='bold')\n",
    "plt.xlabel('Date', fontsize=14)\n",
    "plt.ylabel('Absolute Error', fontsize=14)\n",
    "plt.legend(fontsize=12)\n",
    "plt.grid(True, alpha=0.3)\n",
    "plt.gca().xaxis.set_major_formatter(plt.matplotlib.dates.DateFormatter('%Y-%m-%d'))\n",
    "plt.xticks(rotation=45)\n",
    "plt.tight_layout()\n",
    "plt.show()"
   ]
  },
  {
   "cell_type": "code",
   "execution_count": null,
   "id": "9e8a27dd",
   "metadata": {},
   "outputs": [],
   "source": [
    "# Compare metrics between sentiment-based and volatility-only models\n",
    "print(\"\\n=== MODEL COMPARISON ===\")\n",
    "print(\"With Sentiment:\")\n",
    "for metric_name, value in results['metrics'].items():\n",
    "    print(f\"  {metric_name}: {value:.6f}\")\n",
    "\n",
    "print(\"\\nWithout Sentiment:\")\n",
    "for metric_name, value in results_no_sentiment['metrics'].items():\n",
    "    print(f\"  {metric_name}: {value:.6f}\")"
   ]
  }
 ],
 "metadata": {
  "kernelspec": {
   "display_name": ".venv",
   "language": "python",
   "name": "python3"
  },
  "language_info": {
   "codemirror_mode": {
    "name": "ipython",
    "version": 3
   },
   "file_extension": ".py",
   "mimetype": "text/x-python",
   "name": "python",
   "nbconvert_exporter": "python",
   "pygments_lexer": "ipython3",
   "version": "3.12.10"
  }
 },
 "nbformat": 4,
 "nbformat_minor": 5
}
