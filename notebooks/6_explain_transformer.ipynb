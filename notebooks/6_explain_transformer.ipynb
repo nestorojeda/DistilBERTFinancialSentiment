{
 "cells": [
  {
   "cell_type": "code",
   "execution_count": 1,
   "id": "326f9ca7",
   "metadata": {},
   "outputs": [],
   "source": [
    "import pandas as pd\n",
    "news_df = pd.read_csv(\"./../news/news_data_2023-01-01_2025-12-31_IBEX.csv\")\n",
    "news_df = news_df.head(10)"
   ]
  },
  {
   "cell_type": "code",
   "execution_count": 2,
   "id": "ffe6f2a1",
   "metadata": {},
   "outputs": [],
   "source": [
    "import sys\n",
    "import os\n",
    "\n",
    "# Add the path to the volatility_analysis directory\n",
    "project_root = os.path.abspath(os.path.join(os.getcwd(), '..'))\n",
    "sys.path.append(project_root)\n",
    "sys.path.append(os.path.join(project_root, 'code', 'volatility_analysis'))\n",
    "\n",
    "# Import the volatility analysis library directly\n",
    "from volatility_pipeline import *"
   ]
  },
  {
   "cell_type": "code",
   "execution_count": 3,
   "id": "03e46cdd",
   "metadata": {},
   "outputs": [
    {
     "name": "stdout",
     "output_type": "stream",
     "text": [
      "Sentiment model loaded on device: cuda\n",
      "GPU: NVIDIA GeForce RTX 4070\n"
     ]
    }
   ],
   "source": [
    "tokenizer, model = initialize_sentiment_model()"
   ]
  },
  {
   "cell_type": "code",
   "execution_count": 5,
   "id": "ab74f947",
   "metadata": {},
   "outputs": [],
   "source": [
    "news_df['date'] = pd.to_datetime(news_df['date'], format='%Y-%m-%d %H:%M:%S', errors='coerce')\n",
    "news_df['enhances_sentiment'] = news_df['date'].apply(\n",
    "                lambda date: enhanced_sentiment_calculation(date, news_df, tokenizer, model))\n",
    "news_df['sentiment'] = news_df['date'].apply(\n",
    "                lambda date: sentiment_calculation(date, news_df, tokenizer, model))\n",
    "        "
   ]
  },
  {
   "cell_type": "code",
   "execution_count": null,
   "id": "a24b81ea",
   "metadata": {},
   "outputs": [],
   "source": [
    "# Use a pipeline as a high-level helper\n",
    "from transformers import pipeline\n",
    "\n",
    "pipe = pipeline(\"text-classification\", model=\"nojedag/xlm-roberta-finetuned-financial-news-sentiment-analysis-european\")"
   ]
  }
 ],
 "metadata": {
  "kernelspec": {
   "display_name": ".venv",
   "language": "python",
   "name": "python3"
  },
  "language_info": {
   "codemirror_mode": {
    "name": "ipython",
    "version": 3
   },
   "file_extension": ".py",
   "mimetype": "text/x-python",
   "name": "python",
   "nbconvert_exporter": "python",
   "pygments_lexer": "ipython3",
   "version": "3.12.10"
  }
 },
 "nbformat": 4,
 "nbformat_minor": 5
}
