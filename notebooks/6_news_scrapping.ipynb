{
 "cells": [
  {
   "cell_type": "code",
   "execution_count": null,
   "id": "18eaf4e2",
   "metadata": {},
   "outputs": [],
   "source": [
    "from pygooglenews import GoogleNews\n",
    "\n",
    "gn = GoogleNews()"
   ]
  },
  {
   "cell_type": "code",
   "execution_count": null,
   "id": "a759791b",
   "metadata": {},
   "outputs": [],
   "source": [
    "top = gn.top_news()\n",
    "\n",
    "print(\"Top news:\")\n",
    "for item in top['entries']:\n",
    "    print(f\"Title: {item['title']}\")\n",
    "    print(f\"Link: {item['link']}\")\n",
    "    print(f\"Published: {item['published']}\")\n",
    "    print(f\"Source: {item['source']['title']}\")\n",
    "    print()"
   ]
  }
 ],
 "metadata": {
  "kernelspec": {
   "display_name": ".venv",
   "language": "python",
   "name": "python3"
  },
  "language_info": {
   "name": "python",
   "version": "3.12.10"
  }
 },
 "nbformat": 4,
 "nbformat_minor": 5
}
