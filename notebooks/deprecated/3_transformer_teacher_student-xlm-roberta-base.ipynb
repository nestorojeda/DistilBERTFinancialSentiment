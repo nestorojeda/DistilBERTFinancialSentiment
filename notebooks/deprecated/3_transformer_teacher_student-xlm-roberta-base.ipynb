{
  "cells": [
    {
      "cell_type": "code",
      "execution_count": null,
      "metadata": {},
      "outputs": [],
      "source": [
        "import sys\n",
        "import os\n",
        "\n",
        "# Add the parent directory to the path so Python can find the toolbox package\n",
        "module_path = os.path.abspath(os.path.join('..'))\n",
        "if module_path not in sys.path:\n",
        "    sys.path.append(module_path)\n",
        "    print(f\"Added {module_path} to sys.path\")"
      ]
    },
    {
      "cell_type": "code",
      "execution_count": 1,
      "metadata": {},
      "outputs": [],
      "source": [
        "model_name = \"FacebookAI/xlm-roberta-base\""
      ]
    },
    {
      "cell_type": "code",
      "execution_count": 2,
      "metadata": {},
      "outputs": [],
      "source": [
        "def tokenize_data(example, tokenizer):\n",
        "\treturn tokenizer(example['sentence'], padding='max_length', truncation=True)\n",
        "\n",
        "def get_tokenized_lang_dataset(tokenizer, dataset, lang):\n",
        "\traw_dataset = dataset.filter(lambda example: example['lang'] == lang)\n",
        "\treturn raw_dataset.map(lambda example: tokenize_data(example, tokenizer), batched=True)\n",
        "\n",
        "# Define the transform_labels function to handle batched input\n",
        "def transform_labels(examples):\n",
        "\tlabel_map = {\"negative\": 0, \"neutral\": 1, \"positive\": 2}\n",
        "\tif isinstance(examples['sentiment'], list):\n",
        "\t\texamples['labels'] = [label_map[s.lower()] for s in examples['sentiment']]\n",
        "\telse:\n",
        "\t\texamples['labels'] = label_map[examples['sentiment'].lower()]\n",
        "\treturn examples"
      ]
    },
    {
      "cell_type": "code",
      "execution_count": 3,
      "metadata": {},
      "outputs": [
        {
          "name": "stdout",
          "output_type": "stream",
          "text": [
            "WARNING:tensorflow:From e:\\repo\\DistilBERTFinancialSentiment\\.venv\\Lib\\site-packages\\tf_keras\\src\\losses.py:2976: The name tf.losses.sparse_softmax_cross_entropy is deprecated. Please use tf.compat.v1.losses.sparse_softmax_cross_entropy instead.\n",
            "\n"
          ]
        }
      ],
      "source": [
        "import torch\n",
        "from transformers import Trainer\n",
        "\n",
        "class CustomTrainer(Trainer):\n",
        "    def __init__(self, weight_tensor, *args, **kwargs):\n",
        "        super().__init__(*args, **kwargs)\n",
        "        self.loss_fct = torch.nn.CrossEntropyLoss(weight=weight_tensor.to(self.model.device))\n",
        "\n",
        "    def compute_loss(self, model, inputs, return_outputs=False, num_items_in_batch=None):\n",
        "        labels = inputs.pop(\"labels\")\n",
        "        outputs = model(**inputs)\n",
        "        logits = outputs.get(\"logits\")\n",
        "        loss = self.loss_fct(logits.view(-1, self.model.config.num_labels), labels.view(-1))\n",
        "        return (loss, outputs) if return_outputs else loss"
      ]
    },
    {
      "cell_type": "code",
      "execution_count": 4,
      "metadata": {},
      "outputs": [],
      "source": [
        "import numpy as np\n",
        "import evaluate\n",
        "\n",
        "metric=evaluate.load(\"accuracy\")\n",
        "\n",
        "def compute_metrics(eval_pred):\n",
        "    logits, labels = eval_pred\n",
        "    predictions = torch.argmax(torch.tensor(logits), dim=1).numpy()\n",
        "    return metric.compute(predictions=predictions, references=labels)"
      ]
    },
    {
      "cell_type": "code",
      "execution_count": 5,
      "metadata": {},
      "outputs": [],
      "source": [
        "def get_hyperparameters(dataset, batch_size=32, number_of_epochs=4):\n",
        "    # let set the logging steps\n",
        "    logging_steps = len(dataset['train']) // batch_size # it should log each batch \n",
        "\n",
        "    steps = (len(dataset['train']) / batch_size) * number_of_epochs\n",
        "    warmup_steps = int(0.1 * steps)\n",
        "    print(f\"Train size {len(dataset['train'])}\")\n",
        "    print(f\"Number of training steps: {steps}\")\n",
        "    print(f\"Number of warmup steps: {warmup_steps}\")\n",
        "    print(f\"Logging steps: {logging_steps}\")\n",
        "    print(f\"Batch size: {batch_size}\")\n",
        "    print(f\"Number of epochs: {number_of_epochs}\")\n",
        "    return batch_size, number_of_epochs, logging_steps, warmup_steps"
      ]
    },
    {
      "cell_type": "code",
      "execution_count": null,
      "metadata": {},
      "outputs": [],
      "source": [
        "from transformers import TrainingArguments\n",
        "from toolbox.utils import get_output_dir\n",
        "\n",
        "def get_training_args(model_name, batch_size, number_of_epochs, logging_steps, warmup_steps, lang):\n",
        "  return TrainingArguments(\n",
        "    num_train_epochs=number_of_epochs, \n",
        "    load_best_model_at_end=True,\n",
        "    eval_strategy='steps', \n",
        "    save_strategy='steps',\n",
        "    learning_rate=2e-5,\n",
        "    weight_decay=0.01,  # added weight decay\n",
        "    logging_steps=logging_steps,\n",
        "    warmup_steps= warmup_steps,\n",
        "    save_steps=1000,\n",
        "    eval_steps=500,\n",
        "    output_dir=get_output_dir(f'{model_name}-{lang}'),\n",
        "    report_to=\"wandb\",\n",
        "    per_device_train_batch_size=batch_size,\n",
        "    per_device_eval_batch_size=batch_size,\n",
        "    gradient_accumulation_steps=2,  # accumulate gradients over 2 steps\n",
        "    fp16=True,\n",
        "    run_name=f'{model_name}-{lang}'\n",
        ")"
      ]
    },
    {
      "cell_type": "code",
      "execution_count": 7,
      "metadata": {},
      "outputs": [],
      "source": [
        "from transformers import AutoModelForSequenceClassification\n",
        "from transformers import AutoTokenizer\n",
        "from transformers import Trainer\n",
        "from transformers import DataCollatorWithPadding\n",
        "\n",
        "def fine_tune_language(dataset, lang):\n",
        "    tokenizer = AutoTokenizer.from_pretrained(model_name)\n",
        "    model = AutoModelForSequenceClassification.from_pretrained(model_name, num_labels=3)\n",
        "\n",
        "    lang_dataset = get_tokenized_lang_dataset(tokenizer, dataset, lang)\n",
        "    training_args = get_training_args(model_name, *get_hyperparameters(lang_dataset), lang=lang)\n",
        "\n",
        "    train_dataset = lang_dataset['train'].shuffle(seed=10) \n",
        "    eval_dataset = lang_dataset['test'].shuffle(seed=10)\n",
        "\n",
        "    weight_tensor = torch.tensor([1.0, 2.0, 3.0])\n",
        "    data_collator = DataCollatorWithPadding(tokenizer=tokenizer)\n",
        "\n",
        "    trainer = CustomTrainer(\n",
        "        model=model,\n",
        "        args=training_args,\n",
        "        train_dataset=train_dataset,\n",
        "        eval_dataset=eval_dataset,\n",
        "        weight_tensor=weight_tensor,\n",
        "        data_collator=data_collator,\n",
        "        compute_metrics=compute_metrics\n",
        "    )\n",
        "    trainer.train()\n",
        "\n",
        "    trainer_eval = Trainer(\n",
        "        model=model,\n",
        "        args=training_args,\n",
        "        train_dataset=train_dataset,\n",
        "        eval_dataset=eval_dataset,\n",
        "        compute_metrics=compute_metrics\n",
        "    )\n",
        "    trainer_eval.evaluate()\n",
        "\n",
        "    return model"
      ]
    },
    {
      "cell_type": "code",
      "execution_count": 8,
      "metadata": {},
      "outputs": [
        {
          "name": "stdout",
          "output_type": "stream",
          "text": [
            "Using device: cuda\n"
          ]
        }
      ],
      "source": [
        "import os\n",
        "device = torch.device(\"cuda\" if torch.cuda.is_available() else \"cpu\")\n",
        "print(\"Using device:\", device)\n",
        "\n",
        "project_name = \"xlm-roberta-base-finetuned-financial-phrasebank\"\n",
        "langs = ['en', 'de', 'es', 'fr']\n",
        "\n",
        "# Load the models from the saved directories\n",
        "teacher_models = {}\n",
        "langs_to_fine_tune = []\n",
        "for lang in langs:\n",
        "    model_dir = get_output_dir(f'{project_name}-{lang}')\n",
        "    if os.path.exists(model_dir):\n",
        "        try:\n",
        "            # Attempt to load the model from the directory\n",
        "            teacher_models[lang] = AutoModelForSequenceClassification.from_pretrained(model_dir)\n",
        "            teacher_models[lang].to(device)  # Move the model to the appropriate device\n",
        "        except Exception as e:\n",
        "            print(f\"Error loading model for {lang}: {e}\")\n",
        "            langs_to_fine_tune.append(lang)\n",
        "    else:\n",
        "        print(f\"Model directory for {lang} does not exist: {model_dir}\")\n",
        "        langs_to_fine_tune.append(lang)\n",
        "        continue\n",
        "    "
      ]
    },
    {
      "cell_type": "code",
      "execution_count": 9,
      "metadata": {},
      "outputs": [],
      "source": [
        "from datasets import load_dataset\n",
        "ds = load_dataset(\"nojedag/financial_phrasebank_multilingual\")\n",
        "complete_dataset = ds.map(transform_labels, batched=True)\n",
        "for lang in langs_to_fine_tune:\n",
        "    print(f\"Training model for {lang} language\")\n",
        "    teacher_models[lang] = fine_tune_language(complete_dataset, lang)\n",
        "    print(f\"Model for {lang} language trained successfully\")\n",
        "    teacher_models[lang].save_pretrained(get_output_dir(f'{project_name}-{lang}'))\n"
      ]
    },
    {
      "cell_type": "code",
      "execution_count": 10,
      "metadata": {},
      "outputs": [],
      "source": [
        "from torch.utils.data import DataLoader\n",
        "\n",
        "tokenizer = AutoTokenizer.from_pretrained('FacebookAI/xlm-roberta-base', num_labels=3)\n",
        "dataset = complete_dataset.map(transform_labels, batched=True)\n",
        "dataset = complete_dataset.map(lambda example: tokenize_data(example, tokenizer), batched=True)\n",
        "\n",
        "train_dataset = dataset['train']\n",
        "eval_dataset = dataset['test']\n",
        "\n",
        "train_dataset.set_format(type=\"torch\", columns=[\"input_ids\", \"attention_mask\", \"sentiment\", \"labels\"])\n",
        "eval_dataset.set_format(type=\"torch\", columns=[\"input_ids\", \"attention_mask\", \"sentiment\", \"labels\"])\n",
        "\n",
        "train_loader = DataLoader(train_dataset, batch_size=32, shuffle=True)\n",
        "eval_loader = DataLoader(eval_dataset, batch_size=32, shuffle=True)"
      ]
    },
    {
      "cell_type": "code",
      "execution_count": 11,
      "metadata": {},
      "outputs": [
        {
          "name": "stderr",
          "output_type": "stream",
          "text": [
            "Some weights of XLMRobertaForSequenceClassification were not initialized from the model checkpoint at FacebookAI/xlm-roberta-base and are newly initialized: ['classifier.dense.bias', 'classifier.dense.weight', 'classifier.out_proj.bias', 'classifier.out_proj.weight']\n",
            "You should probably TRAIN this model on a down-stream task to be able to use it for predictions and inference.\n"
          ]
        },
        {
          "data": {
            "text/plain": [
              "XLMRobertaForSequenceClassification(\n",
              "  (roberta): XLMRobertaModel(\n",
              "    (embeddings): XLMRobertaEmbeddings(\n",
              "      (word_embeddings): Embedding(250002, 768, padding_idx=1)\n",
              "      (position_embeddings): Embedding(514, 768, padding_idx=1)\n",
              "      (token_type_embeddings): Embedding(1, 768)\n",
              "      (LayerNorm): LayerNorm((768,), eps=1e-05, elementwise_affine=True)\n",
              "      (dropout): Dropout(p=0.1, inplace=False)\n",
              "    )\n",
              "    (encoder): XLMRobertaEncoder(\n",
              "      (layer): ModuleList(\n",
              "        (0-11): 12 x XLMRobertaLayer(\n",
              "          (attention): XLMRobertaAttention(\n",
              "            (self): XLMRobertaSdpaSelfAttention(\n",
              "              (query): Linear(in_features=768, out_features=768, bias=True)\n",
              "              (key): Linear(in_features=768, out_features=768, bias=True)\n",
              "              (value): Linear(in_features=768, out_features=768, bias=True)\n",
              "              (dropout): Dropout(p=0.1, inplace=False)\n",
              "            )\n",
              "            (output): XLMRobertaSelfOutput(\n",
              "              (dense): Linear(in_features=768, out_features=768, bias=True)\n",
              "              (LayerNorm): LayerNorm((768,), eps=1e-05, elementwise_affine=True)\n",
              "              (dropout): Dropout(p=0.1, inplace=False)\n",
              "            )\n",
              "          )\n",
              "          (intermediate): XLMRobertaIntermediate(\n",
              "            (dense): Linear(in_features=768, out_features=3072, bias=True)\n",
              "            (intermediate_act_fn): GELUActivation()\n",
              "          )\n",
              "          (output): XLMRobertaOutput(\n",
              "            (dense): Linear(in_features=3072, out_features=768, bias=True)\n",
              "            (LayerNorm): LayerNorm((768,), eps=1e-05, elementwise_affine=True)\n",
              "            (dropout): Dropout(p=0.1, inplace=False)\n",
              "          )\n",
              "        )\n",
              "      )\n",
              "    )\n",
              "  )\n",
              "  (classifier): XLMRobertaClassificationHead(\n",
              "    (dense): Linear(in_features=768, out_features=768, bias=True)\n",
              "    (dropout): Dropout(p=0.1, inplace=False)\n",
              "    (out_proj): Linear(in_features=768, out_features=3, bias=True)\n",
              "  )\n",
              ")"
            ]
          },
          "execution_count": 11,
          "metadata": {},
          "output_type": "execute_result"
        }
      ],
      "source": [
        "student_model = AutoModelForSequenceClassification.from_pretrained('FacebookAI/xlm-roberta-base', num_labels=3)\n",
        "student_model.to(device)"
      ]
    },
    {
      "cell_type": "code",
      "execution_count": 12,
      "metadata": {},
      "outputs": [],
      "source": [
        "from torch import nn\n",
        "\n",
        "kl_loss_fn = nn.KLDivLoss(reduction=\"batchmean\")\n",
        "ce_loss_fn = nn.CrossEntropyLoss()\n",
        "temperature = 2.0\n",
        "alpha = 0.5\n",
        "\n",
        "def distillation_loss(student_logits, teacher_logits, temperature):\n",
        "    # Scale the logits and compute probabilities\n",
        "    student_log_probs = nn.functional.log_softmax(student_logits / temperature, dim=-1)\n",
        "    teacher_probs = nn.functional.softmax(teacher_logits / temperature, dim=-1)\n",
        "    return kl_loss_fn(student_log_probs, teacher_probs) * (temperature ** 2)"
      ]
    },
    {
      "cell_type": "code",
      "execution_count": null,
      "metadata": {},
      "outputs": [],
      "source": [
        "optimizer = torch.optim.Adam(student_model.parameters(), lr=5e-5)\n",
        "from torch.utils.tensorboard import SummaryWriter\n",
        "scaler = torch.amp.GradScaler()\n",
        "num_epochs = 5  # Example: 3 epochs\n",
        "global_step = 0"
      ]
    },
    {
      "cell_type": "code",
      "execution_count": null,
      "metadata": {},
      "outputs": [
        {
          "name": "stdout",
          "output_type": "stream",
          "text": [
            "Epoch: 0, Step: 100, Loss: 0.590625524520874\n",
            "Epoch: 0, Step: 200, Loss: 0.419099897146225\n",
            "Epoch: 0, Step: 300, Loss: 0.3767983615398407\n",
            "Epoch: 0, Step: 400, Loss: 0.3011900782585144\n",
            "Epoch: 0, Step: 500, Loss: 0.3580879867076874\n",
            "Epoch: 1, Step: 600, Loss: 0.34319907426834106\n",
            "Epoch: 1, Step: 700, Loss: 0.37530267238616943\n",
            "Epoch: 1, Step: 800, Loss: 0.32280367612838745\n",
            "Epoch: 1, Step: 900, Loss: 0.4464535117149353\n",
            "Epoch: 1, Step: 1000, Loss: 0.26513671875\n",
            "Epoch: 2, Step: 1100, Loss: 0.29456648230552673\n",
            "Epoch: 2, Step: 1200, Loss: 0.35158029198646545\n",
            "Epoch: 2, Step: 1300, Loss: 0.24187342822551727\n",
            "Epoch: 2, Step: 1400, Loss: 0.2717231810092926\n",
            "Epoch: 2, Step: 1500, Loss: 0.25153881311416626\n"
          ]
        }
      ],
      "source": [
        "student_model.train()\n",
        "# Initialize TensorBoard writer for logging\n",
        "writer = SummaryWriter(\"runs/student_model_logs\")\n",
        "for epoch in range(num_epochs):\n",
        "    for batch in train_loader:\n",
        "        input_ids = batch['input_ids'].to(device)\n",
        "        attention_mask = batch['attention_mask'].to(device)\n",
        "        labels = batch['labels'].to(device)\n",
        "\n",
        "        optimizer.zero_grad()\n",
        "\n",
        "\n",
        "        with torch.amp.autocast(device_type='cuda', dtype=torch.float16):\n",
        "            with torch.no_grad():\n",
        "                teacher_logits_sum = None\n",
        "                for lang in langs:\n",
        "                    teacher = teacher_models[lang]\n",
        "                    teacher.eval()\n",
        "                    outputs = teacher(input_ids=input_ids, attention_mask=attention_mask)\n",
        "                    if teacher_logits_sum is None:\n",
        "                        teacher_logits_sum = outputs.logits\n",
        "                    else:\n",
        "                        teacher_logits_sum += outputs.logits\n",
        "                teacher_logits_avg = teacher_logits_sum / len(teacher_models)\n",
        "            \n",
        "            student_outputs = student_model(input_ids=input_ids, attention_mask=attention_mask)\n",
        "            student_logits = student_outputs.logits\n",
        "\n",
        "            loss_ce = ce_loss_fn(student_logits, labels)\n",
        "            loss_kd = distillation_loss(student_logits, teacher_logits_avg, temperature)\n",
        "            loss = alpha * loss_ce + (1 - alpha) * loss_kd\n",
        "\n",
        "        scaler.scale(loss).backward()\n",
        "        scaler.step(optimizer)\n",
        "        scaler.update()\n",
        "\n",
        "        # Log training loss\n",
        "        writer.add_scalar(\"Training Loss\", loss.item(), global_step)\n",
        "        global_step += 1\n",
        "\n",
        "        if global_step % 100 == 0:\n",
        "            print(f\"Epoch: {epoch}, Step: {global_step}, Loss: {loss.item()}\")"
      ]
    },
    {
      "cell_type": "code",
      "execution_count": 15,
      "metadata": {},
      "outputs": [],
      "source": [
        "from sklearn.metrics import accuracy_score, precision_recall_fscore_support\n",
        "\n",
        "def evaluate(model, dataloader, device):\n",
        "    model.eval()\n",
        "    all_preds = []\n",
        "    all_labels = []\n",
        "    with torch.no_grad():\n",
        "        for batch in dataloader:\n",
        "            input_ids = batch['input_ids'].to(device)\n",
        "            attention_mask = batch['attention_mask'].to(device)\n",
        "            labels = batch['labels'].to(device)\n",
        "            outputs = model(input_ids=input_ids, attention_mask=attention_mask)\n",
        "            logits = outputs.logits\n",
        "            preds = torch.argmax(logits, dim=-1)\n",
        "            all_preds.extend(preds.cpu().numpy())\n",
        "            all_labels.extend(labels.cpu().numpy())\n",
        "    accuracy = accuracy_score(all_labels, all_preds)\n",
        "    precision, recall, f1, _ = precision_recall_fscore_support(all_labels, all_preds, average=\"weighted\")\n",
        "    return {\"accuracy\": accuracy, \"precision\": precision, \"recall\": recall, \"f1\": f1}"
      ]
    },
    {
      "cell_type": "code",
      "execution_count": 16,
      "metadata": {},
      "outputs": [
        {
          "name": "stdout",
          "output_type": "stream",
          "text": [
            "Final Evaluation Metrics: {'accuracy': 0.809014405933533, 'precision': 0.8205275349631127, 'recall': 0.809014405933533, 'f1': 0.776328489324103}\n"
          ]
        }
      ],
      "source": [
        "# Final evaluation at the end of training\n",
        "final_metrics = evaluate(student_model, eval_loader, device)\n",
        "print(\"Final Evaluation Metrics:\", final_metrics)\n",
        "writer.add_text(\"Final Metrics\", str(final_metrics))\n",
        "writer.close()  # Close the TensorBoard writer when done"
      ]
    },
    {
      "cell_type": "code",
      "execution_count": null,
      "metadata": {},
      "outputs": [],
      "source": [
        "synthetic = load_dataset(\"nojedag/synthetic_financial_sentiment\")\n",
        "synthetic_data = ds.map(transform_labels, batched=True)\n"
      ]
    },
    {
      "cell_type": "code",
      "execution_count": null,
      "metadata": {},
      "outputs": [
        {
          "name": "stdout",
          "output_type": "stream",
          "text": [
            "Student model and tokenizer saved to 'saved_student_model'\n"
          ]
        }
      ],
      "source": [
        "student_model.save_pretrained(\"saved_student_model\")\n",
        "tokenizer.save_pretrained(\"saved_student_model\")\n",
        "print(\"Student model and tokenizer saved to 'saved_student_model'\")"
      ]
    }
  ],
  "metadata": {
    "accelerator": "GPU",
    "colab": {
      "gpuType": "T4",
      "provenance": []
    },
    "kernelspec": {
      "display_name": ".venv",
      "language": "python",
      "name": "python3"
    },
    "language_info": {
      "codemirror_mode": {
        "name": "ipython",
        "version": 3
      },
      "file_extension": ".py",
      "mimetype": "text/x-python",
      "name": "python",
      "nbconvert_exporter": "python",
      "pygments_lexer": "ipython3",
      "version": "3.12.10"
    }
  },
  "nbformat": 4,
  "nbformat_minor": 0
}
