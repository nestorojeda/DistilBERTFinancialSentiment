{
 "cells": [
  {
   "cell_type": "code",
   "execution_count": 2,
   "id": "daccee65",
   "metadata": {},
   "outputs": [
    {
     "name": "stderr",
     "output_type": "stream",
     "text": [
      "C:\\Users\\nestor\\AppData\\Local\\Temp\\ipykernel_23976\\3552013645.py:32: FutureWarning: The behavior of DataFrame concatenation with empty or all-NA entries is deprecated. In a future version, this will no longer exclude empty or all-NA columns when determining the result dtypes. To retain the old behavior, exclude the relevant entries before the concat operation.\n",
      "  news_df = (pd.concat(all_frames, ignore_index=True)\n"
     ]
    },
    {
     "data": {
      "application/vnd.microsoft.datawrangler.viewer.v0+json": {
       "columns": [
        {
         "name": "index",
         "rawType": "int64",
         "type": "integer"
        },
        {
         "name": "date",
         "rawType": "datetime64[ns]",
         "type": "datetime"
        },
        {
         "name": "title",
         "rawType": "object",
         "type": "string"
        }
       ],
       "ref": "3510ce29-c7c8-4bc9-9d41-40fff9bbdfc0",
       "rows": [
        [
         "0",
         "2024-01-02 08:00:00",
         "FTSE 100 celebrates 40th birthday – but is it over the hill? - IFA Magazine"
        ],
        [
         "1",
         "2024-01-02 08:00:00",
         "Footsie turns 40: FTSE 100’s rise, rise and stagnation over four decades - The Guardian"
        ],
        [
         "2",
         "2024-01-04 08:00:00",
         "FTSE 100: 40 years of ups and downs at the top of British business - Raconteur"
        ],
        [
         "3",
         "2024-01-04 08:00:00",
         "FTSE 100 boardrooms show more stability than football club dressing rooms in 2023 - AJ Bell"
        ],
        [
         "4",
         "2024-01-04 08:00:00",
         "The FTSE 100 turns 40 – what’s changed and what’s next? - Hargreaves Lansdown"
        ]
       ],
       "shape": {
        "columns": 2,
        "rows": 5
       }
      },
      "text/html": [
       "<div>\n",
       "<style scoped>\n",
       "    .dataframe tbody tr th:only-of-type {\n",
       "        vertical-align: middle;\n",
       "    }\n",
       "\n",
       "    .dataframe tbody tr th {\n",
       "        vertical-align: top;\n",
       "    }\n",
       "\n",
       "    .dataframe thead th {\n",
       "        text-align: right;\n",
       "    }\n",
       "</style>\n",
       "<table border=\"1\" class=\"dataframe\">\n",
       "  <thead>\n",
       "    <tr style=\"text-align: right;\">\n",
       "      <th></th>\n",
       "      <th>date</th>\n",
       "      <th>title</th>\n",
       "    </tr>\n",
       "  </thead>\n",
       "  <tbody>\n",
       "    <tr>\n",
       "      <th>0</th>\n",
       "      <td>2024-01-02 08:00:00</td>\n",
       "      <td>FTSE 100 celebrates 40th birthday – but is it ...</td>\n",
       "    </tr>\n",
       "    <tr>\n",
       "      <th>1</th>\n",
       "      <td>2024-01-02 08:00:00</td>\n",
       "      <td>Footsie turns 40: FTSE 100’s rise, rise and st...</td>\n",
       "    </tr>\n",
       "    <tr>\n",
       "      <th>2</th>\n",
       "      <td>2024-01-04 08:00:00</td>\n",
       "      <td>FTSE 100: 40 years of ups and downs at the top...</td>\n",
       "    </tr>\n",
       "    <tr>\n",
       "      <th>3</th>\n",
       "      <td>2024-01-04 08:00:00</td>\n",
       "      <td>FTSE 100 boardrooms show more stability than f...</td>\n",
       "    </tr>\n",
       "    <tr>\n",
       "      <th>4</th>\n",
       "      <td>2024-01-04 08:00:00</td>\n",
       "      <td>The FTSE 100 turns 40 – what’s changed and wha...</td>\n",
       "    </tr>\n",
       "  </tbody>\n",
       "</table>\n",
       "</div>"
      ],
      "text/plain": [
       "                 date                                              title\n",
       "0 2024-01-02 08:00:00  FTSE 100 celebrates 40th birthday – but is it ...\n",
       "1 2024-01-02 08:00:00  Footsie turns 40: FTSE 100’s rise, rise and st...\n",
       "2 2024-01-04 08:00:00  FTSE 100: 40 years of ups and downs at the top...\n",
       "3 2024-01-04 08:00:00  FTSE 100 boardrooms show more stability than f...\n",
       "4 2024-01-04 08:00:00  The FTSE 100 turns 40 – what’s changed and wha..."
      ]
     },
     "execution_count": 2,
     "metadata": {},
     "output_type": "execute_result"
    }
   ],
   "source": [
    "import pandas as pd, time, random\n",
    "from pygooglenews import GoogleNews\n",
    "\n",
    "KEYWORDS  = \"FTSE OR \\\"Bank of England\\\" OR inflation\"   # etc.\n",
    "START, END = \"2024-01-01\", \"2025-12-31\"\n",
    "WINDOW     = 7                                           # days\n",
    "\n",
    "gn = GoogleNews(lang=\"en\", country=\"GB\")\n",
    "all_frames = []\n",
    "\n",
    "start_dt = pd.to_datetime(START)\n",
    "end_dt   = pd.to_datetime(END)\n",
    "\n",
    "while start_dt <= end_dt:\n",
    "    stop_dt = min(start_dt + pd.Timedelta(days=WINDOW-1), end_dt)\n",
    "\n",
    "    feed    = gn.search(KEYWORDS,\n",
    "                        from_=start_dt.strftime(\"%Y-%m-%d\"),\n",
    "                        to_  =stop_dt.strftime(\"%Y-%m-%d\"))\n",
    "\n",
    "    df      = pd.DataFrame(\n",
    "                 {\"date\":  [pd.to_datetime(e.published).tz_localize(None)\n",
    "                             for e in feed[\"entries\"]],\n",
    "                  \"title\": [e.title for e in feed[\"entries\"]]}\n",
    "              )\n",
    "    all_frames.append(df)\n",
    "\n",
    "    # polite pause to avoid 429 errors\n",
    "    time.sleep(random.uniform(1.0, 2.5))\n",
    "    start_dt = stop_dt + pd.Timedelta(days=1)\n",
    "\n",
    "news_df = (pd.concat(all_frames, ignore_index=True)\n",
    "             .drop_duplicates())          # remove overlaps\n",
    "\n",
    "news_df.head()  # show first few rows\n"
   ]
  }
 ],
 "metadata": {
  "kernelspec": {
   "display_name": ".venv",
   "language": "python",
   "name": "python3"
  },
  "language_info": {
   "codemirror_mode": {
    "name": "ipython",
    "version": 3
   },
   "file_extension": ".py",
   "mimetype": "text/x-python",
   "name": "python",
   "nbconvert_exporter": "python",
   "pygments_lexer": "ipython3",
   "version": "3.12.10"
  }
 },
 "nbformat": 4,
 "nbformat_minor": 5
}
